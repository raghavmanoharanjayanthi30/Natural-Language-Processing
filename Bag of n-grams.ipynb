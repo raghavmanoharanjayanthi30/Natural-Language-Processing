{
 "cells": [
  {
   "cell_type": "markdown",
   "id": "30b0470a",
   "metadata": {},
   "source": [
    "In a language the order of words is important. in this model, we are capturing individual words but we are not capturing the relationship between the words\n",
    "\n",
    "Meaning of a sentence is determined by the order of words and this has to be captured by the algorithm we are using.\n",
    "\n",
    "To do this, one way is to capture a pair of words instead of just one word (as a sliding window). This is called a bi-gram"
   ]
  },
  {
   "cell_type": "code",
   "execution_count": 1,
   "id": "6cf68813",
   "metadata": {},
   "outputs": [
    {
     "data": {
      "text/plain": [
       "{'thor': 9,\n",
       " 'hathodawala': 2,\n",
       " 'is': 4,\n",
       " 'looking': 7,\n",
       " 'for': 0,\n",
       " 'job': 6,\n",
       " 'thor hathodawala': 10,\n",
       " 'hathodawala is': 3,\n",
       " 'is looking': 5,\n",
       " 'looking for': 8,\n",
       " 'for job': 1}"
      ]
     },
     "execution_count": 1,
     "metadata": {},
     "output_type": "execute_result"
    }
   ],
   "source": [
    "from sklearn.feature_extraction.text import CountVectorizer\n",
    "v = CountVectorizer(ngram_range=(1,2))\n",
    "v.fit([\"Thor hathodawala is looking for a job\"])\n",
    "v.vocabulary_"
   ]
  },
  {
   "cell_type": "code",
   "execution_count": 15,
   "id": "c2c4dd5f",
   "metadata": {},
   "outputs": [],
   "source": [
    "corpus = [\"Thor ate pizza\", \"Loki is tall\", \"Loki is eating pizza\"]"
   ]
  },
  {
   "cell_type": "code",
   "execution_count": 16,
   "id": "4437eeeb",
   "metadata": {},
   "outputs": [],
   "source": [
    "import spacy\n",
    "\n",
    "nlp = spacy.load(\"en_core_web_sm\")"
   ]
  },
  {
   "cell_type": "code",
   "execution_count": 17,
   "id": "01c64c18",
   "metadata": {},
   "outputs": [],
   "source": [
    "def preprocess(text):\n",
    "    doc = nlp(text)\n",
    "    \n",
    "    processed = []\n",
    "    \n",
    "    for token in doc:\n",
    "        if not token.is_stop and not token.is_punct:\n",
    "            processed.append(token.lemma_)\n",
    "            \n",
    "    return \" \".join(processed) #returns string"
   ]
  },
  {
   "cell_type": "code",
   "execution_count": 18,
   "id": "f922af2f",
   "metadata": {},
   "outputs": [
    {
     "data": {
      "text/plain": [
       "'thor eat pizza'"
      ]
     },
     "execution_count": 18,
     "metadata": {},
     "output_type": "execute_result"
    }
   ],
   "source": [
    "preprocess(\"Thor ate pizza\")"
   ]
  },
  {
   "cell_type": "code",
   "execution_count": 19,
   "id": "26ed131e",
   "metadata": {},
   "outputs": [
    {
     "data": {
      "text/plain": [
       "'Loki eat pizza'"
      ]
     },
     "execution_count": 19,
     "metadata": {},
     "output_type": "execute_result"
    }
   ],
   "source": [
    "preprocess(\"Loki is eating pizza\")"
   ]
  },
  {
   "cell_type": "code",
   "execution_count": 20,
   "id": "b3e8c982",
   "metadata": {},
   "outputs": [],
   "source": [
    "corpus_processed = [preprocess(word) for word in corpus]"
   ]
  },
  {
   "cell_type": "code",
   "execution_count": 21,
   "id": "0ad7c958",
   "metadata": {},
   "outputs": [
    {
     "data": {
      "text/plain": [
       "['thor eat pizza', 'Loki tall', 'Loki eat pizza']"
      ]
     },
     "execution_count": 21,
     "metadata": {},
     "output_type": "execute_result"
    }
   ],
   "source": [
    "corpus_processed"
   ]
  },
  {
   "cell_type": "code",
   "execution_count": 22,
   "id": "8f23334e",
   "metadata": {},
   "outputs": [],
   "source": [
    "v = CountVectorizer(ngram_range=(1,2))"
   ]
  },
  {
   "cell_type": "code",
   "execution_count": 23,
   "id": "0a4ccc86",
   "metadata": {},
   "outputs": [
    {
     "data": {
      "text/html": [
       "<style>#sk-container-id-2 {color: black;background-color: white;}#sk-container-id-2 pre{padding: 0;}#sk-container-id-2 div.sk-toggleable {background-color: white;}#sk-container-id-2 label.sk-toggleable__label {cursor: pointer;display: block;width: 100%;margin-bottom: 0;padding: 0.3em;box-sizing: border-box;text-align: center;}#sk-container-id-2 label.sk-toggleable__label-arrow:before {content: \"▸\";float: left;margin-right: 0.25em;color: #696969;}#sk-container-id-2 label.sk-toggleable__label-arrow:hover:before {color: black;}#sk-container-id-2 div.sk-estimator:hover label.sk-toggleable__label-arrow:before {color: black;}#sk-container-id-2 div.sk-toggleable__content {max-height: 0;max-width: 0;overflow: hidden;text-align: left;background-color: #f0f8ff;}#sk-container-id-2 div.sk-toggleable__content pre {margin: 0.2em;color: black;border-radius: 0.25em;background-color: #f0f8ff;}#sk-container-id-2 input.sk-toggleable__control:checked~div.sk-toggleable__content {max-height: 200px;max-width: 100%;overflow: auto;}#sk-container-id-2 input.sk-toggleable__control:checked~label.sk-toggleable__label-arrow:before {content: \"▾\";}#sk-container-id-2 div.sk-estimator input.sk-toggleable__control:checked~label.sk-toggleable__label {background-color: #d4ebff;}#sk-container-id-2 div.sk-label input.sk-toggleable__control:checked~label.sk-toggleable__label {background-color: #d4ebff;}#sk-container-id-2 input.sk-hidden--visually {border: 0;clip: rect(1px 1px 1px 1px);clip: rect(1px, 1px, 1px, 1px);height: 1px;margin: -1px;overflow: hidden;padding: 0;position: absolute;width: 1px;}#sk-container-id-2 div.sk-estimator {font-family: monospace;background-color: #f0f8ff;border: 1px dotted black;border-radius: 0.25em;box-sizing: border-box;margin-bottom: 0.5em;}#sk-container-id-2 div.sk-estimator:hover {background-color: #d4ebff;}#sk-container-id-2 div.sk-parallel-item::after {content: \"\";width: 100%;border-bottom: 1px solid gray;flex-grow: 1;}#sk-container-id-2 div.sk-label:hover label.sk-toggleable__label {background-color: #d4ebff;}#sk-container-id-2 div.sk-serial::before {content: \"\";position: absolute;border-left: 1px solid gray;box-sizing: border-box;top: 0;bottom: 0;left: 50%;z-index: 0;}#sk-container-id-2 div.sk-serial {display: flex;flex-direction: column;align-items: center;background-color: white;padding-right: 0.2em;padding-left: 0.2em;position: relative;}#sk-container-id-2 div.sk-item {position: relative;z-index: 1;}#sk-container-id-2 div.sk-parallel {display: flex;align-items: stretch;justify-content: center;background-color: white;position: relative;}#sk-container-id-2 div.sk-item::before, #sk-container-id-2 div.sk-parallel-item::before {content: \"\";position: absolute;border-left: 1px solid gray;box-sizing: border-box;top: 0;bottom: 0;left: 50%;z-index: -1;}#sk-container-id-2 div.sk-parallel-item {display: flex;flex-direction: column;z-index: 1;position: relative;background-color: white;}#sk-container-id-2 div.sk-parallel-item:first-child::after {align-self: flex-end;width: 50%;}#sk-container-id-2 div.sk-parallel-item:last-child::after {align-self: flex-start;width: 50%;}#sk-container-id-2 div.sk-parallel-item:only-child::after {width: 0;}#sk-container-id-2 div.sk-dashed-wrapped {border: 1px dashed gray;margin: 0 0.4em 0.5em 0.4em;box-sizing: border-box;padding-bottom: 0.4em;background-color: white;}#sk-container-id-2 div.sk-label label {font-family: monospace;font-weight: bold;display: inline-block;line-height: 1.2em;}#sk-container-id-2 div.sk-label-container {text-align: center;}#sk-container-id-2 div.sk-container {/* jupyter's `normalize.less` sets `[hidden] { display: none; }` but bootstrap.min.css set `[hidden] { display: none !important; }` so we also need the `!important` here to be able to override the default hidden behavior on the sphinx rendered scikit-learn.org. See: https://github.com/scikit-learn/scikit-learn/issues/21755 */display: inline-block !important;position: relative;}#sk-container-id-2 div.sk-text-repr-fallback {display: none;}</style><div id=\"sk-container-id-2\" class=\"sk-top-container\"><div class=\"sk-text-repr-fallback\"><pre>CountVectorizer(ngram_range=(1, 2))</pre><b>In a Jupyter environment, please rerun this cell to show the HTML representation or trust the notebook. <br />On GitHub, the HTML representation is unable to render, please try loading this page with nbviewer.org.</b></div><div class=\"sk-container\" hidden><div class=\"sk-item\"><div class=\"sk-estimator sk-toggleable\"><input class=\"sk-toggleable__control sk-hidden--visually\" id=\"sk-estimator-id-2\" type=\"checkbox\" checked><label for=\"sk-estimator-id-2\" class=\"sk-toggleable__label sk-toggleable__label-arrow\">CountVectorizer</label><div class=\"sk-toggleable__content\"><pre>CountVectorizer(ngram_range=(1, 2))</pre></div></div></div></div></div>"
      ],
      "text/plain": [
       "CountVectorizer(ngram_range=(1, 2))"
      ]
     },
     "execution_count": 23,
     "metadata": {},
     "output_type": "execute_result"
    }
   ],
   "source": [
    "v.fit(corpus_processed)"
   ]
  },
  {
   "cell_type": "code",
   "execution_count": 24,
   "id": "0e6be005",
   "metadata": {},
   "outputs": [
    {
     "data": {
      "text/plain": [
       "{'thor': 7,\n",
       " 'eat': 0,\n",
       " 'pizza': 5,\n",
       " 'thor eat': 8,\n",
       " 'eat pizza': 1,\n",
       " 'loki': 2,\n",
       " 'tall': 6,\n",
       " 'loki tall': 4,\n",
       " 'loki eat': 3}"
      ]
     },
     "execution_count": 24,
     "metadata": {},
     "output_type": "execute_result"
    }
   ],
   "source": [
    "v.vocabulary_"
   ]
  },
  {
   "cell_type": "code",
   "execution_count": 27,
   "id": "0dcb15a7",
   "metadata": {},
   "outputs": [
    {
     "data": {
      "text/plain": [
       "array([[1, 1, 0, 0, 0, 1, 0, 1, 1]])"
      ]
     },
     "execution_count": 27,
     "metadata": {},
     "output_type": "execute_result"
    }
   ],
   "source": [
    "#convert sentence into vector using bag of n-grams model\n",
    "v.transform([\"Thor eat pizza\"]).toarray()"
   ]
  },
  {
   "cell_type": "code",
   "execution_count": 28,
   "id": "12a7b78a",
   "metadata": {},
   "outputs": [
    {
     "data": {
      "text/plain": [
       "array([[1, 1, 0, 0, 0, 1, 0, 0, 0]])"
      ]
     },
     "execution_count": 28,
     "metadata": {},
     "output_type": "execute_result"
    }
   ],
   "source": [
    "v.transform([\"Hulk eat pizza\"]).toarray()"
   ]
  },
  {
   "cell_type": "code",
   "execution_count": 30,
   "id": "88ebc54a",
   "metadata": {},
   "outputs": [],
   "source": [
    "import pandas as pd"
   ]
  },
  {
   "cell_type": "code",
   "execution_count": 32,
   "id": "6c513f49",
   "metadata": {},
   "outputs": [],
   "source": [
    "df = pd.read_json(\"/Users/raghavraahul/Downloads/News_Category_Dataset_v3.json\", lines = True)"
   ]
  },
  {
   "cell_type": "code",
   "execution_count": 33,
   "id": "842e3f9c",
   "metadata": {},
   "outputs": [
    {
     "data": {
      "text/html": [
       "<div>\n",
       "<style scoped>\n",
       "    .dataframe tbody tr th:only-of-type {\n",
       "        vertical-align: middle;\n",
       "    }\n",
       "\n",
       "    .dataframe tbody tr th {\n",
       "        vertical-align: top;\n",
       "    }\n",
       "\n",
       "    .dataframe thead th {\n",
       "        text-align: right;\n",
       "    }\n",
       "</style>\n",
       "<table border=\"1\" class=\"dataframe\">\n",
       "  <thead>\n",
       "    <tr style=\"text-align: right;\">\n",
       "      <th></th>\n",
       "      <th>link</th>\n",
       "      <th>headline</th>\n",
       "      <th>category</th>\n",
       "      <th>short_description</th>\n",
       "      <th>authors</th>\n",
       "      <th>date</th>\n",
       "    </tr>\n",
       "  </thead>\n",
       "  <tbody>\n",
       "    <tr>\n",
       "      <th>0</th>\n",
       "      <td>https://www.huffpost.com/entry/covid-boosters-...</td>\n",
       "      <td>Over 4 Million Americans Roll Up Sleeves For O...</td>\n",
       "      <td>U.S. NEWS</td>\n",
       "      <td>Health experts said it is too early to predict...</td>\n",
       "      <td>Carla K. Johnson, AP</td>\n",
       "      <td>2022-09-23</td>\n",
       "    </tr>\n",
       "    <tr>\n",
       "      <th>1</th>\n",
       "      <td>https://www.huffpost.com/entry/american-airlin...</td>\n",
       "      <td>American Airlines Flyer Charged, Banned For Li...</td>\n",
       "      <td>U.S. NEWS</td>\n",
       "      <td>He was subdued by passengers and crew when he ...</td>\n",
       "      <td>Mary Papenfuss</td>\n",
       "      <td>2022-09-23</td>\n",
       "    </tr>\n",
       "    <tr>\n",
       "      <th>2</th>\n",
       "      <td>https://www.huffpost.com/entry/funniest-tweets...</td>\n",
       "      <td>23 Of The Funniest Tweets About Cats And Dogs ...</td>\n",
       "      <td>COMEDY</td>\n",
       "      <td>\"Until you have a dog you don't understand wha...</td>\n",
       "      <td>Elyse Wanshel</td>\n",
       "      <td>2022-09-23</td>\n",
       "    </tr>\n",
       "    <tr>\n",
       "      <th>3</th>\n",
       "      <td>https://www.huffpost.com/entry/funniest-parent...</td>\n",
       "      <td>The Funniest Tweets From Parents This Week (Se...</td>\n",
       "      <td>PARENTING</td>\n",
       "      <td>\"Accidentally put grown-up toothpaste on my to...</td>\n",
       "      <td>Caroline Bologna</td>\n",
       "      <td>2022-09-23</td>\n",
       "    </tr>\n",
       "    <tr>\n",
       "      <th>4</th>\n",
       "      <td>https://www.huffpost.com/entry/amy-cooper-lose...</td>\n",
       "      <td>Woman Who Called Cops On Black Bird-Watcher Lo...</td>\n",
       "      <td>U.S. NEWS</td>\n",
       "      <td>Amy Cooper accused investment firm Franklin Te...</td>\n",
       "      <td>Nina Golgowski</td>\n",
       "      <td>2022-09-22</td>\n",
       "    </tr>\n",
       "  </tbody>\n",
       "</table>\n",
       "</div>"
      ],
      "text/plain": [
       "                                                link  \\\n",
       "0  https://www.huffpost.com/entry/covid-boosters-...   \n",
       "1  https://www.huffpost.com/entry/american-airlin...   \n",
       "2  https://www.huffpost.com/entry/funniest-tweets...   \n",
       "3  https://www.huffpost.com/entry/funniest-parent...   \n",
       "4  https://www.huffpost.com/entry/amy-cooper-lose...   \n",
       "\n",
       "                                            headline   category  \\\n",
       "0  Over 4 Million Americans Roll Up Sleeves For O...  U.S. NEWS   \n",
       "1  American Airlines Flyer Charged, Banned For Li...  U.S. NEWS   \n",
       "2  23 Of The Funniest Tweets About Cats And Dogs ...     COMEDY   \n",
       "3  The Funniest Tweets From Parents This Week (Se...  PARENTING   \n",
       "4  Woman Who Called Cops On Black Bird-Watcher Lo...  U.S. NEWS   \n",
       "\n",
       "                                   short_description               authors  \\\n",
       "0  Health experts said it is too early to predict...  Carla K. Johnson, AP   \n",
       "1  He was subdued by passengers and crew when he ...        Mary Papenfuss   \n",
       "2  \"Until you have a dog you don't understand wha...         Elyse Wanshel   \n",
       "3  \"Accidentally put grown-up toothpaste on my to...      Caroline Bologna   \n",
       "4  Amy Cooper accused investment firm Franklin Te...        Nina Golgowski   \n",
       "\n",
       "        date  \n",
       "0 2022-09-23  \n",
       "1 2022-09-23  \n",
       "2 2022-09-23  \n",
       "3 2022-09-23  \n",
       "4 2022-09-22  "
      ]
     },
     "execution_count": 33,
     "metadata": {},
     "output_type": "execute_result"
    }
   ],
   "source": [
    "df.head()"
   ]
  },
  {
   "cell_type": "code",
   "execution_count": 34,
   "id": "a762ed38",
   "metadata": {},
   "outputs": [
    {
     "data": {
      "text/plain": [
       "POLITICS          35602\n",
       "WELLNESS          17945\n",
       "ENTERTAINMENT     17362\n",
       "TRAVEL             9900\n",
       "STYLE & BEAUTY     9814\n",
       "PARENTING          8791\n",
       "HEALTHY LIVING     6694\n",
       "QUEER VOICES       6347\n",
       "FOOD & DRINK       6340\n",
       "BUSINESS           5992\n",
       "COMEDY             5400\n",
       "SPORTS             5077\n",
       "BLACK VOICES       4583\n",
       "HOME & LIVING      4320\n",
       "PARENTS            3955\n",
       "THE WORLDPOST      3664\n",
       "WEDDINGS           3653\n",
       "WOMEN              3572\n",
       "CRIME              3562\n",
       "IMPACT             3484\n",
       "DIVORCE            3426\n",
       "WORLD NEWS         3299\n",
       "MEDIA              2944\n",
       "WEIRD NEWS         2777\n",
       "GREEN              2622\n",
       "WORLDPOST          2579\n",
       "RELIGION           2577\n",
       "STYLE              2254\n",
       "SCIENCE            2206\n",
       "TECH               2104\n",
       "TASTE              2096\n",
       "MONEY              1756\n",
       "ARTS               1509\n",
       "ENVIRONMENT        1444\n",
       "FIFTY              1401\n",
       "GOOD NEWS          1398\n",
       "U.S. NEWS          1377\n",
       "ARTS & CULTURE     1339\n",
       "COLLEGE            1144\n",
       "LATINO VOICES      1130\n",
       "CULTURE & ARTS     1074\n",
       "EDUCATION          1014\n",
       "Name: category, dtype: int64"
      ]
     },
     "execution_count": 34,
     "metadata": {},
     "output_type": "execute_result"
    }
   ],
   "source": [
    "df.category.value_counts()"
   ]
  },
  {
   "cell_type": "code",
   "execution_count": 41,
   "id": "0ec035f0",
   "metadata": {},
   "outputs": [],
   "source": [
    "#handling imbalanced dataset\n",
    "\n",
    "#undersampling\n",
    "\n",
    "#lowest is 1014\n",
    "#so we use 1014 samples for each category\n",
    "\n",
    "#but in real life, wasting training data is not advised\n",
    "\n",
    "min_samples = 1381\n",
    "#for example to obtain 1014 sample of arts category\n",
    "df_business = df[df.category == \"BUSINESS\"].sample(min_samples, random_state= 1) #same random_state number ensures sampling will be similar\n",
    "df_sports = df[df.category == \"SPORTS\"].sample(min_samples, random_state= 1) #same random_state number ensures sampling will be similar\n",
    "df_crime = df[df.category == \"CRIME\"].sample(min_samples, random_state= 1) #same random_state number ensures sampling will be similar\n",
    "df_science = df[df.category == \"SCIENCE\"].sample(min_samples, random_state= 1) #same random_state number ensures sampling will be similar\n",
    "\n",
    "#just going to use business, sports, crime, science for this example"
   ]
  },
  {
   "cell_type": "code",
   "execution_count": 42,
   "id": "fb12b99a",
   "metadata": {},
   "outputs": [
    {
     "data": {
      "text/plain": [
       "BUSINESS    1381\n",
       "SPORTS      1381\n",
       "CRIME       1381\n",
       "SCIENCE     1381\n",
       "Name: category, dtype: int64"
      ]
     },
     "execution_count": 42,
     "metadata": {},
     "output_type": "execute_result"
    }
   ],
   "source": [
    "df_balanced = pd.concat([df_business, df_sports, df_crime, df_science], axis = 0)\n",
    "df_balanced.category.value_counts()"
   ]
  },
  {
   "cell_type": "code",
   "execution_count": 43,
   "id": "58be33ac",
   "metadata": {},
   "outputs": [],
   "source": [
    "#convert category to numerical values for machine learning\n",
    "target = {\"BUSINESS\": 0, \"SPORTS\": 1, \"CRIME\": 2, \"SCIENCE\": 3}\n",
    "df_balanced['category_num'] = df_balanced.category.map(target)"
   ]
  },
  {
   "cell_type": "code",
   "execution_count": 44,
   "id": "f865c574",
   "metadata": {},
   "outputs": [
    {
     "data": {
      "text/html": [
       "<div>\n",
       "<style scoped>\n",
       "    .dataframe tbody tr th:only-of-type {\n",
       "        vertical-align: middle;\n",
       "    }\n",
       "\n",
       "    .dataframe tbody tr th {\n",
       "        vertical-align: top;\n",
       "    }\n",
       "\n",
       "    .dataframe thead th {\n",
       "        text-align: right;\n",
       "    }\n",
       "</style>\n",
       "<table border=\"1\" class=\"dataframe\">\n",
       "  <thead>\n",
       "    <tr style=\"text-align: right;\">\n",
       "      <th></th>\n",
       "      <th>link</th>\n",
       "      <th>headline</th>\n",
       "      <th>category</th>\n",
       "      <th>short_description</th>\n",
       "      <th>authors</th>\n",
       "      <th>date</th>\n",
       "      <th>category_num</th>\n",
       "    </tr>\n",
       "  </thead>\n",
       "  <tbody>\n",
       "    <tr>\n",
       "      <th>11814</th>\n",
       "      <td>https://www.huffingtonpost.com/entry/monster-e...</td>\n",
       "      <td>Trapped Inside The Monster Energy Frat House</td>\n",
       "      <td>BUSINESS</td>\n",
       "      <td>A woman who worked at the drink company said s...</td>\n",
       "      <td>Emily Peck</td>\n",
       "      <td>2018-03-29</td>\n",
       "      <td>0</td>\n",
       "    </tr>\n",
       "    <tr>\n",
       "      <th>130521</th>\n",
       "      <td>https://www.huffingtonpost.com/entry/pfizer-as...</td>\n",
       "      <td>Pfizer Is Abandoning Controversial Plan</td>\n",
       "      <td>BUSINESS</td>\n",
       "      <td></td>\n",
       "      <td></td>\n",
       "      <td>2014-05-26</td>\n",
       "      <td>0</td>\n",
       "    </tr>\n",
       "    <tr>\n",
       "      <th>173584</th>\n",
       "      <td>https://www.huffingtonpost.com/entry/officemax...</td>\n",
       "      <td>OfficeMax, Office Depot Merger Could Happen Th...</td>\n",
       "      <td>BUSINESS</td>\n",
       "      <td>The deal is not yet done, and talks could stil...</td>\n",
       "      <td>Reuters, Reuters</td>\n",
       "      <td>2013-02-18</td>\n",
       "      <td>0</td>\n",
       "    </tr>\n",
       "    <tr>\n",
       "      <th>201085</th>\n",
       "      <td>https://www.huffingtonpost.com/entry/las-cruce...</td>\n",
       "      <td>Las Cruces, New Mexico, Threatens To Shut Off ...</td>\n",
       "      <td>BUSINESS</td>\n",
       "      <td>CORRECTION: A previous version of this article...</td>\n",
       "      <td>Harry Bradford</td>\n",
       "      <td>2012-04-28</td>\n",
       "      <td>0</td>\n",
       "    </tr>\n",
       "    <tr>\n",
       "      <th>117165</th>\n",
       "      <td>https://www.huffingtonpost.com/entry/how-sophi...</td>\n",
       "      <td>How Sophia Broke the Rules for Advice Based Bu...</td>\n",
       "      <td>BUSINESS</td>\n",
       "      <td>You see Sophia completely smashes the myth tha...</td>\n",
       "      <td>John Murphy, ContributorBusiness Coach and Adv...</td>\n",
       "      <td>2014-10-25</td>\n",
       "      <td>0</td>\n",
       "    </tr>\n",
       "  </tbody>\n",
       "</table>\n",
       "</div>"
      ],
      "text/plain": [
       "                                                     link  \\\n",
       "11814   https://www.huffingtonpost.com/entry/monster-e...   \n",
       "130521  https://www.huffingtonpost.com/entry/pfizer-as...   \n",
       "173584  https://www.huffingtonpost.com/entry/officemax...   \n",
       "201085  https://www.huffingtonpost.com/entry/las-cruce...   \n",
       "117165  https://www.huffingtonpost.com/entry/how-sophi...   \n",
       "\n",
       "                                                 headline  category  \\\n",
       "11814        Trapped Inside The Monster Energy Frat House  BUSINESS   \n",
       "130521            Pfizer Is Abandoning Controversial Plan  BUSINESS   \n",
       "173584  OfficeMax, Office Depot Merger Could Happen Th...  BUSINESS   \n",
       "201085  Las Cruces, New Mexico, Threatens To Shut Off ...  BUSINESS   \n",
       "117165  How Sophia Broke the Rules for Advice Based Bu...  BUSINESS   \n",
       "\n",
       "                                        short_description  \\\n",
       "11814   A woman who worked at the drink company said s...   \n",
       "130521                                                      \n",
       "173584  The deal is not yet done, and talks could stil...   \n",
       "201085  CORRECTION: A previous version of this article...   \n",
       "117165  You see Sophia completely smashes the myth tha...   \n",
       "\n",
       "                                                  authors       date  \\\n",
       "11814                                          Emily Peck 2018-03-29   \n",
       "130521                                                    2014-05-26   \n",
       "173584                                   Reuters, Reuters 2013-02-18   \n",
       "201085                                     Harry Bradford 2012-04-28   \n",
       "117165  John Murphy, ContributorBusiness Coach and Adv... 2014-10-25   \n",
       "\n",
       "        category_num  \n",
       "11814              0  \n",
       "130521             0  \n",
       "173584             0  \n",
       "201085             0  \n",
       "117165             0  "
      ]
     },
     "execution_count": 44,
     "metadata": {},
     "output_type": "execute_result"
    }
   ],
   "source": [
    "df_balanced.head(5)"
   ]
  },
  {
   "cell_type": "code",
   "execution_count": 45,
   "id": "59430995",
   "metadata": {},
   "outputs": [],
   "source": [
    "from sklearn.model_selection import train_test_split\n",
    "X_train, X_test, y_train, y_test = train_test_split(df_balanced.headline, \n",
    "                                                    df_balanced.category_num, \n",
    "                                                    test_size = 0.2, random_state = 1, \n",
    "                                                    stratify= df_balanced.category_num)\n",
    "\n",
    "#stratify here creates equal number of samples from all the classes in train and test"
   ]
  },
  {
   "cell_type": "code",
   "execution_count": 46,
   "id": "e81d7744",
   "metadata": {},
   "outputs": [
    {
     "data": {
      "text/plain": [
       "94508     Spurs Assistant Coach Becky Hammon Just Made H...\n",
       "208809    Top 10 Retailers With The Most Sales Worldwide...\n",
       "67776     ESPN To Have First Female Analyst Call Top Soc...\n",
       "56288     Police Capture Ahmad Khan Rahami, Manhattan Bo...\n",
       "111554              WATCH: An Astronaut's Guide To Optimism\n",
       "Name: headline, dtype: object"
      ]
     },
     "execution_count": 46,
     "metadata": {},
     "output_type": "execute_result"
    }
   ],
   "source": [
    "X_train.head()"
   ]
  },
  {
   "cell_type": "code",
   "execution_count": 47,
   "id": "495efad6",
   "metadata": {},
   "outputs": [
    {
     "data": {
      "text/plain": [
       "0    1105\n",
       "2    1105\n",
       "3    1105\n",
       "1    1104\n",
       "Name: category_num, dtype: int64"
      ]
     },
     "execution_count": 47,
     "metadata": {},
     "output_type": "execute_result"
    }
   ],
   "source": [
    "y_train.value_counts()"
   ]
  },
  {
   "cell_type": "code",
   "execution_count": 48,
   "id": "21df5912",
   "metadata": {},
   "outputs": [],
   "source": [
    "#bag of words model\n",
    "\n",
    "from sklearn.pipeline import Pipeline\n",
    "from sklearn.naive_bayes import MultinomialNB\n",
    "from sklearn.metrics import classification_report"
   ]
  },
  {
   "cell_type": "code",
   "execution_count": 49,
   "id": "53b23b87",
   "metadata": {},
   "outputs": [],
   "source": [
    "#naived based model is recommend for text-based problems"
   ]
  },
  {
   "cell_type": "code",
   "execution_count": 50,
   "id": "e8443220",
   "metadata": {},
   "outputs": [
    {
     "name": "stdout",
     "output_type": "stream",
     "text": [
      "              precision    recall  f1-score   support\n",
      "\n",
      "           0       0.82      0.88      0.85       276\n",
      "           1       0.88      0.85      0.87       277\n",
      "           2       0.86      0.89      0.88       276\n",
      "           3       0.87      0.81      0.84       276\n",
      "\n",
      "    accuracy                           0.86      1105\n",
      "   macro avg       0.86      0.86      0.86      1105\n",
      "weighted avg       0.86      0.86      0.86      1105\n",
      "\n"
     ]
    }
   ],
   "source": [
    "clf = Pipeline([\n",
    "    ('vectorizer', CountVectorizer()),\n",
    "    ('nb', MultinomialNB())\n",
    "])\n",
    "\n",
    "clf.fit(X_train, y_train)\n",
    "y_pred = clf.predict(X_test)\n",
    "print(classification_report(y_test, y_pred))"
   ]
  },
  {
   "cell_type": "code",
   "execution_count": 51,
   "id": "06071e5b",
   "metadata": {},
   "outputs": [
    {
     "name": "stdout",
     "output_type": "stream",
     "text": [
      "              precision    recall  f1-score   support\n",
      "\n",
      "           0       0.82      0.88      0.85       276\n",
      "           1       0.88      0.85      0.87       277\n",
      "           2       0.86      0.89      0.88       276\n",
      "           3       0.87      0.81      0.84       276\n",
      "\n",
      "    accuracy                           0.86      1105\n",
      "   macro avg       0.86      0.86      0.86      1105\n",
      "weighted avg       0.86      0.86      0.86      1105\n",
      "\n"
     ]
    }
   ],
   "source": [
    "clf1 = Pipeline([\n",
    "    ('vectorizer', CountVectorizer(ngram_range = (1,2))),\n",
    "    ('nb', MultinomialNB())\n",
    "])\n",
    "\n",
    "clf.fit(X_train, y_train)\n",
    "y_pred = clf.predict(X_test)\n",
    "print(classification_report(y_test, y_pred))"
   ]
  },
  {
   "cell_type": "code",
   "execution_count": 52,
   "id": "c81486d2",
   "metadata": {},
   "outputs": [
    {
     "name": "stdout",
     "output_type": "stream",
     "text": [
      "              precision    recall  f1-score   support\n",
      "\n",
      "           0       0.82      0.88      0.85       276\n",
      "           1       0.88      0.85      0.87       277\n",
      "           2       0.86      0.89      0.88       276\n",
      "           3       0.87      0.81      0.84       276\n",
      "\n",
      "    accuracy                           0.86      1105\n",
      "   macro avg       0.86      0.86      0.86      1105\n",
      "weighted avg       0.86      0.86      0.86      1105\n",
      "\n"
     ]
    }
   ],
   "source": [
    "clf1 = Pipeline([\n",
    "    ('vectorizer', CountVectorizer(ngram_range = (1,3))),\n",
    "    ('nb', MultinomialNB())\n",
    "])\n",
    "\n",
    "clf.fit(X_train, y_train)\n",
    "y_pred = clf.predict(X_test)\n",
    "print(classification_report(y_test, y_pred))"
   ]
  },
  {
   "cell_type": "code",
   "execution_count": 53,
   "id": "d889333e",
   "metadata": {},
   "outputs": [],
   "source": [
    "#here, we didn't do any preprocessing\n",
    "\n",
    "#let's see whether preprocessing will help improve accuracy of the model\n",
    "df_balanced[\"preprocessed_text\"] = df_balanced.headline.apply(preprocess)"
   ]
  },
  {
   "cell_type": "code",
   "execution_count": 54,
   "id": "feac5b0d",
   "metadata": {},
   "outputs": [
    {
     "data": {
      "text/html": [
       "<div>\n",
       "<style scoped>\n",
       "    .dataframe tbody tr th:only-of-type {\n",
       "        vertical-align: middle;\n",
       "    }\n",
       "\n",
       "    .dataframe tbody tr th {\n",
       "        vertical-align: top;\n",
       "    }\n",
       "\n",
       "    .dataframe thead th {\n",
       "        text-align: right;\n",
       "    }\n",
       "</style>\n",
       "<table border=\"1\" class=\"dataframe\">\n",
       "  <thead>\n",
       "    <tr style=\"text-align: right;\">\n",
       "      <th></th>\n",
       "      <th>link</th>\n",
       "      <th>headline</th>\n",
       "      <th>category</th>\n",
       "      <th>short_description</th>\n",
       "      <th>authors</th>\n",
       "      <th>date</th>\n",
       "      <th>category_num</th>\n",
       "      <th>preprocessed_text</th>\n",
       "    </tr>\n",
       "  </thead>\n",
       "  <tbody>\n",
       "    <tr>\n",
       "      <th>11814</th>\n",
       "      <td>https://www.huffingtonpost.com/entry/monster-e...</td>\n",
       "      <td>Trapped Inside The Monster Energy Frat House</td>\n",
       "      <td>BUSINESS</td>\n",
       "      <td>A woman who worked at the drink company said s...</td>\n",
       "      <td>Emily Peck</td>\n",
       "      <td>2018-03-29</td>\n",
       "      <td>0</td>\n",
       "      <td>trap inside Monster Energy Frat House</td>\n",
       "    </tr>\n",
       "    <tr>\n",
       "      <th>130521</th>\n",
       "      <td>https://www.huffingtonpost.com/entry/pfizer-as...</td>\n",
       "      <td>Pfizer Is Abandoning Controversial Plan</td>\n",
       "      <td>BUSINESS</td>\n",
       "      <td></td>\n",
       "      <td></td>\n",
       "      <td>2014-05-26</td>\n",
       "      <td>0</td>\n",
       "      <td>Pfizer abandon Controversial Plan</td>\n",
       "    </tr>\n",
       "    <tr>\n",
       "      <th>173584</th>\n",
       "      <td>https://www.huffingtonpost.com/entry/officemax...</td>\n",
       "      <td>OfficeMax, Office Depot Merger Could Happen Th...</td>\n",
       "      <td>BUSINESS</td>\n",
       "      <td>The deal is not yet done, and talks could stil...</td>\n",
       "      <td>Reuters, Reuters</td>\n",
       "      <td>2013-02-18</td>\n",
       "      <td>0</td>\n",
       "      <td>OfficeMax Office Depot Merger happen week report</td>\n",
       "    </tr>\n",
       "    <tr>\n",
       "      <th>201085</th>\n",
       "      <td>https://www.huffingtonpost.com/entry/las-cruce...</td>\n",
       "      <td>Las Cruces, New Mexico, Threatens To Shut Off ...</td>\n",
       "      <td>BUSINESS</td>\n",
       "      <td>CORRECTION: A previous version of this article...</td>\n",
       "      <td>Harry Bradford</td>\n",
       "      <td>2012-04-28</td>\n",
       "      <td>0</td>\n",
       "      <td>Las Cruces New Mexico threaten shut Public Uti...</td>\n",
       "    </tr>\n",
       "    <tr>\n",
       "      <th>117165</th>\n",
       "      <td>https://www.huffingtonpost.com/entry/how-sophi...</td>\n",
       "      <td>How Sophia Broke the Rules for Advice Based Bu...</td>\n",
       "      <td>BUSINESS</td>\n",
       "      <td>You see Sophia completely smashes the myth tha...</td>\n",
       "      <td>John Murphy, ContributorBusiness Coach and Adv...</td>\n",
       "      <td>2014-10-25</td>\n",
       "      <td>0</td>\n",
       "      <td>Sophia break rule Advice Based business</td>\n",
       "    </tr>\n",
       "  </tbody>\n",
       "</table>\n",
       "</div>"
      ],
      "text/plain": [
       "                                                     link  \\\n",
       "11814   https://www.huffingtonpost.com/entry/monster-e...   \n",
       "130521  https://www.huffingtonpost.com/entry/pfizer-as...   \n",
       "173584  https://www.huffingtonpost.com/entry/officemax...   \n",
       "201085  https://www.huffingtonpost.com/entry/las-cruce...   \n",
       "117165  https://www.huffingtonpost.com/entry/how-sophi...   \n",
       "\n",
       "                                                 headline  category  \\\n",
       "11814        Trapped Inside The Monster Energy Frat House  BUSINESS   \n",
       "130521            Pfizer Is Abandoning Controversial Plan  BUSINESS   \n",
       "173584  OfficeMax, Office Depot Merger Could Happen Th...  BUSINESS   \n",
       "201085  Las Cruces, New Mexico, Threatens To Shut Off ...  BUSINESS   \n",
       "117165  How Sophia Broke the Rules for Advice Based Bu...  BUSINESS   \n",
       "\n",
       "                                        short_description  \\\n",
       "11814   A woman who worked at the drink company said s...   \n",
       "130521                                                      \n",
       "173584  The deal is not yet done, and talks could stil...   \n",
       "201085  CORRECTION: A previous version of this article...   \n",
       "117165  You see Sophia completely smashes the myth tha...   \n",
       "\n",
       "                                                  authors       date  \\\n",
       "11814                                          Emily Peck 2018-03-29   \n",
       "130521                                                    2014-05-26   \n",
       "173584                                   Reuters, Reuters 2013-02-18   \n",
       "201085                                     Harry Bradford 2012-04-28   \n",
       "117165  John Murphy, ContributorBusiness Coach and Adv... 2014-10-25   \n",
       "\n",
       "        category_num                                  preprocessed_text  \n",
       "11814              0              trap inside Monster Energy Frat House  \n",
       "130521             0                  Pfizer abandon Controversial Plan  \n",
       "173584             0   OfficeMax Office Depot Merger happen week report  \n",
       "201085             0  Las Cruces New Mexico threaten shut Public Uti...  \n",
       "117165             0            Sophia break rule Advice Based business  "
      ]
     },
     "execution_count": 54,
     "metadata": {},
     "output_type": "execute_result"
    }
   ],
   "source": [
    "df_balanced.head()"
   ]
  },
  {
   "cell_type": "code",
   "execution_count": 55,
   "id": "70d25c11",
   "metadata": {},
   "outputs": [],
   "source": [
    "X_train, X_test, y_train, y_test = train_test_split(df_balanced.preprocessed_text, \n",
    "                                                    df_balanced.category_num, \n",
    "                                                    test_size = 0.2, random_state = 1, \n",
    "                                                    stratify= df_balanced.category_num)"
   ]
  },
  {
   "cell_type": "code",
   "execution_count": 56,
   "id": "17d1e564",
   "metadata": {},
   "outputs": [
    {
     "name": "stdout",
     "output_type": "stream",
     "text": [
      "              precision    recall  f1-score   support\n",
      "\n",
      "           0       0.87      0.86      0.86       276\n",
      "           1       0.86      0.87      0.87       277\n",
      "           2       0.85      0.92      0.88       276\n",
      "           3       0.90      0.83      0.86       276\n",
      "\n",
      "    accuracy                           0.87      1105\n",
      "   macro avg       0.87      0.87      0.87      1105\n",
      "weighted avg       0.87      0.87      0.87      1105\n",
      "\n"
     ]
    }
   ],
   "source": [
    "clf1 = Pipeline([\n",
    "    ('vectorizer', CountVectorizer(ngram_range = (1,2))),\n",
    "    ('nb', MultinomialNB())\n",
    "])\n",
    "\n",
    "clf.fit(X_train, y_train)\n",
    "y_pred = clf.predict(X_test)\n",
    "print(classification_report(y_test, y_pred))"
   ]
  },
  {
   "cell_type": "code",
   "execution_count": null,
   "id": "48738120",
   "metadata": {},
   "outputs": [],
   "source": [
    "#preprocessing improves accuracy metrics in general compared to unprocessed text"
   ]
  }
 ],
 "metadata": {
  "kernelspec": {
   "display_name": "Python 3 (ipykernel)",
   "language": "python",
   "name": "python3"
  },
  "language_info": {
   "codemirror_mode": {
    "name": "ipython",
    "version": 3
   },
   "file_extension": ".py",
   "mimetype": "text/x-python",
   "name": "python",
   "nbconvert_exporter": "python",
   "pygments_lexer": "ipython3",
   "version": "3.11.3"
  }
 },
 "nbformat": 4,
 "nbformat_minor": 5
}
