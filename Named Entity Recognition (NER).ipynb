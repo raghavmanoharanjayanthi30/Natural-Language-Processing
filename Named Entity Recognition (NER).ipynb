{
 "cells": [
  {
   "cell_type": "markdown",
   "id": "53edb1a8",
   "metadata": {},
   "source": [
    "Use cases of NER\n",
    "\n",
    "1. search\n",
    "\n",
    "Extracting company names from news article.\n",
    "\n",
    "But this might not be that straightforward. for instance, Tesla could be a name of person too. Nikola Tesla. This is where the NER system can be useful and can tell you what entity it is.\n",
    "\n",
    "NER = is used to extract different entities in your text\n",
    "\n",
    "This is very useful because if you type in the name of a person, company, product etc, the search engine can show you all relevant articles.\n",
    "\n",
    "2. Recommendations\n",
    "\n",
    "for example, if you've read articles with entities like Elon Musk and hong kong, the algorithm might recommend articles in the future that are similar with similar entities.\n",
    "\n",
    "in netflix, if the user has preference of watching movies from certain actors or certain production houses, the algorithm with recommend tv shows, movies etc in the future that contain similar entities (actors, production houses etc)\n",
    "\n",
    "3. Customer care service\n",
    "\n",
    "For example, if it is a portal for customers to report complaints on different courses. if you can extract the entity course name, then you can route those issues to a relevant ticket."
   ]
  },
  {
   "cell_type": "code",
   "execution_count": 1,
   "id": "345fc7f5",
   "metadata": {},
   "outputs": [],
   "source": [
    "import spacy\n",
    "nlp = spacy.load(\"en_core_web_sm\")"
   ]
  },
  {
   "cell_type": "code",
   "execution_count": 2,
   "id": "26902064",
   "metadata": {},
   "outputs": [
    {
     "data": {
      "text/plain": [
       "['tok2vec', 'tagger', 'parser', 'attribute_ruler', 'lemmatizer', 'ner']"
      ]
     },
     "execution_count": 2,
     "metadata": {},
     "output_type": "execute_result"
    }
   ],
   "source": [
    "nlp.pipe_names #you can see that one of the components is 'ner'"
   ]
  },
  {
   "cell_type": "code",
   "execution_count": 10,
   "id": "22c22602",
   "metadata": {},
   "outputs": [],
   "source": [
    "doc = nlp(\"Tesla Inc is going to acquire Twitter Inc for $45 billion\")"
   ]
  },
  {
   "cell_type": "code",
   "execution_count": 11,
   "id": "9bb6fbb9",
   "metadata": {},
   "outputs": [
    {
     "name": "stdout",
     "output_type": "stream",
     "text": [
      "Tesla Inc  |  ORG  |  Companies, agencies, institutions, etc.\n",
      "Twitter Inc  |  ORG  |  Companies, agencies, institutions, etc.\n",
      "$45 billion  |  MONEY  |  Monetary values, including unit\n"
     ]
    }
   ],
   "source": [
    "for ent in doc.ents:\n",
    "    print(ent.text, \" | \", ent.label_, \" | \", spacy.explain(ent.label_))"
   ]
  },
  {
   "cell_type": "code",
   "execution_count": 12,
   "id": "76350eb9",
   "metadata": {},
   "outputs": [
    {
     "data": {
      "text/html": [
       "<span class=\"tex2jax_ignore\"><div class=\"entities\" style=\"line-height: 2.5; direction: ltr\">\n",
       "<mark class=\"entity\" style=\"background: #7aecec; padding: 0.45em 0.6em; margin: 0 0.25em; line-height: 1; border-radius: 0.35em;\">\n",
       "    Tesla Inc\n",
       "    <span style=\"font-size: 0.8em; font-weight: bold; line-height: 1; border-radius: 0.35em; vertical-align: middle; margin-left: 0.5rem\">ORG</span>\n",
       "</mark>\n",
       " is going to acquire \n",
       "<mark class=\"entity\" style=\"background: #7aecec; padding: 0.45em 0.6em; margin: 0 0.25em; line-height: 1; border-radius: 0.35em;\">\n",
       "    Twitter Inc\n",
       "    <span style=\"font-size: 0.8em; font-weight: bold; line-height: 1; border-radius: 0.35em; vertical-align: middle; margin-left: 0.5rem\">ORG</span>\n",
       "</mark>\n",
       " for \n",
       "<mark class=\"entity\" style=\"background: #e4e7d2; padding: 0.45em 0.6em; margin: 0 0.25em; line-height: 1; border-radius: 0.35em;\">\n",
       "    $45 billion\n",
       "    <span style=\"font-size: 0.8em; font-weight: bold; line-height: 1; border-radius: 0.35em; vertical-align: middle; margin-left: 0.5rem\">MONEY</span>\n",
       "</mark>\n",
       "</div></span>"
      ],
      "text/plain": [
       "<IPython.core.display.HTML object>"
      ]
     },
     "metadata": {},
     "output_type": "display_data"
    }
   ],
   "source": [
    "from spacy import displacy\n",
    "displacy.render(doc, style = \"ent\")"
   ]
  },
  {
   "cell_type": "code",
   "execution_count": 13,
   "id": "6352e59a",
   "metadata": {},
   "outputs": [
    {
     "data": {
      "text/plain": [
       "['CARDINAL',\n",
       " 'DATE',\n",
       " 'EVENT',\n",
       " 'FAC',\n",
       " 'GPE',\n",
       " 'LANGUAGE',\n",
       " 'LAW',\n",
       " 'LOC',\n",
       " 'MONEY',\n",
       " 'NORP',\n",
       " 'ORDINAL',\n",
       " 'ORG',\n",
       " 'PERCENT',\n",
       " 'PERSON',\n",
       " 'PRODUCT',\n",
       " 'QUANTITY',\n",
       " 'TIME',\n",
       " 'WORK_OF_ART']"
      ]
     },
     "execution_count": 13,
     "metadata": {},
     "output_type": "execute_result"
    }
   ],
   "source": [
    "nlp.pipe_labels['ner'] #shows all the entities that ner supports"
   ]
  },
  {
   "cell_type": "code",
   "execution_count": 18,
   "id": "22a3d93b",
   "metadata": {},
   "outputs": [],
   "source": [
    "doc1 = nlp(\"Michael Bloomberg founded Bloomberg Inc in 1982\")"
   ]
  },
  {
   "cell_type": "code",
   "execution_count": 19,
   "id": "c1d96dcc",
   "metadata": {},
   "outputs": [
    {
     "name": "stdout",
     "output_type": "stream",
     "text": [
      "Michael Bloomberg  |  PERSON  |  People, including fictional\n",
      "Bloomberg Inc  |  ORG  |  Companies, agencies, institutions, etc.\n",
      "1982  |  DATE  |  Absolute or relative dates or periods\n"
     ]
    }
   ],
   "source": [
    "for ent in doc1.ents:\n",
    "    print(ent.text, \" | \", ent.label_, \" | \", spacy.explain(ent.label_))"
   ]
  },
  {
   "cell_type": "code",
   "execution_count": 34,
   "id": "e082377c",
   "metadata": {},
   "outputs": [
    {
     "name": "stdout",
     "output_type": "stream",
     "text": [
      "Tesla  |  ORG  |  Companies, agencies, institutions, etc.\n",
      "$45 billion  |  MONEY  |  Monetary values, including unit\n"
     ]
    }
   ],
   "source": [
    "#hugging face is a popular machine learning NLP library\n",
    "doc = nlp(\"Tesla is going to acquire twitter for $45 billion\")\n",
    "for ent in doc.ents:\n",
    "    print(ent.text, \" | \", ent.label_, \" | \", spacy.explain(ent.label_))"
   ]
  },
  {
   "cell_type": "code",
   "execution_count": 35,
   "id": "edba0c42",
   "metadata": {},
   "outputs": [
    {
     "data": {
      "text/plain": [
       "spacy.tokens.span.Span"
      ]
     },
     "execution_count": 35,
     "metadata": {},
     "output_type": "execute_result"
    }
   ],
   "source": [
    "#we want spacy to recognize tesla and twitter as organization\n",
    "\n",
    "#span\n",
    "type(doc[2:5])"
   ]
  },
  {
   "cell_type": "code",
   "execution_count": 36,
   "id": "92566bd4",
   "metadata": {},
   "outputs": [],
   "source": [
    "from spacy.tokens import Span\n",
    "\n",
    "#customize entity labeling using span\n",
    "s1 = Span(doc, 0, 1, label = \"ORG\")\n",
    "s2 = Span(doc, 5, 6, label = \"ORG\")\n",
    "\n",
    "doc.set_ents([s1,s2], default = \"unmodified\")"
   ]
  },
  {
   "cell_type": "code",
   "execution_count": 37,
   "id": "68708850",
   "metadata": {},
   "outputs": [
    {
     "name": "stdout",
     "output_type": "stream",
     "text": [
      "Tesla  |  ORG  |  Companies, agencies, institutions, etc.\n",
      "twitter  |  ORG  |  Companies, agencies, institutions, etc.\n",
      "$45 billion  |  MONEY  |  Monetary values, including unit\n"
     ]
    }
   ],
   "source": [
    "for ent in doc.ents:\n",
    "    print(ent.text, \" | \", ent.label_, \" | \", spacy.explain(ent.label_))"
   ]
  },
  {
   "cell_type": "markdown",
   "id": "7b31214a",
   "metadata": {},
   "source": [
    "Customized NER system\n",
    "\n",
    "For example, you have a pharmaceutical company, and you want to set entities for a drug\n",
    "\n",
    "Methods to design own NER system:\n",
    "1. simple lookup = this is a hard-coded approach. as you get more companies, drug, and other entities in your vocabulary, you have a process where somebody manually adds that entity into the databases\n",
    "\n",
    "2. rule-based NER = for example, before the phrase \"was born\" is a proper noun, rule for phone numbers. Spacy provides a class called EntityRuler that can be used to write or specify all these rules\n",
    "\n",
    "3. machine learning based approach called conditional random fields (CRF), BERT\n",
    "\n"
   ]
  }
 ],
 "metadata": {
  "kernelspec": {
   "display_name": "Python 3 (ipykernel)",
   "language": "python",
   "name": "python3"
  },
  "language_info": {
   "codemirror_mode": {
    "name": "ipython",
    "version": 3
   },
   "file_extension": ".py",
   "mimetype": "text/x-python",
   "name": "python",
   "nbconvert_exporter": "python",
   "pygments_lexer": "ipython3",
   "version": "3.11.3"
  }
 },
 "nbformat": 4,
 "nbformat_minor": 5
}
