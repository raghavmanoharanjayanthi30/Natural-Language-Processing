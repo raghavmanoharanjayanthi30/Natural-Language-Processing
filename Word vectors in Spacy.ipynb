{
 "cells": [
  {
   "cell_type": "code",
   "execution_count": 3,
   "id": "eba478aa",
   "metadata": {},
   "outputs": [],
   "source": [
    "import spacy"
   ]
  },
  {
   "cell_type": "code",
   "execution_count": 5,
   "id": "c2cf2f71",
   "metadata": {},
   "outputs": [
    {
     "name": "stdout",
     "output_type": "stream",
     "text": [
      "Collecting en-core-web-lg==3.6.0\n",
      "  Downloading https://github.com/explosion/spacy-models/releases/download/en_core_web_lg-3.6.0/en_core_web_lg-3.6.0-py3-none-any.whl (587.7 MB)\n",
      "\u001b[2K     \u001b[90m━━━━━━━━━━━━━━━━━━━━━━━━━━━━━━━━━━━━━━━\u001b[0m \u001b[32m587.7/587.7 MB\u001b[0m \u001b[31m3.3 MB/s\u001b[0m eta \u001b[36m0:00:00\u001b[0m00:01\u001b[0m00:01\u001b[0m\n",
      "\u001b[?25hRequirement already satisfied: spacy<3.7.0,>=3.6.0 in /Users/raghavraahul/anaconda3/lib/python3.11/site-packages (from en-core-web-lg==3.6.0) (3.6.1)\n",
      "Requirement already satisfied: spacy-legacy<3.1.0,>=3.0.11 in /Users/raghavraahul/anaconda3/lib/python3.11/site-packages (from spacy<3.7.0,>=3.6.0->en-core-web-lg==3.6.0) (3.0.12)\n",
      "Requirement already satisfied: spacy-loggers<2.0.0,>=1.0.0 in /Users/raghavraahul/anaconda3/lib/python3.11/site-packages (from spacy<3.7.0,>=3.6.0->en-core-web-lg==3.6.0) (1.0.4)\n",
      "Requirement already satisfied: murmurhash<1.1.0,>=0.28.0 in /Users/raghavraahul/anaconda3/lib/python3.11/site-packages (from spacy<3.7.0,>=3.6.0->en-core-web-lg==3.6.0) (1.0.9)\n",
      "Requirement already satisfied: cymem<2.1.0,>=2.0.2 in /Users/raghavraahul/anaconda3/lib/python3.11/site-packages (from spacy<3.7.0,>=3.6.0->en-core-web-lg==3.6.0) (2.0.7)\n",
      "Requirement already satisfied: preshed<3.1.0,>=3.0.2 in /Users/raghavraahul/anaconda3/lib/python3.11/site-packages (from spacy<3.7.0,>=3.6.0->en-core-web-lg==3.6.0) (3.0.8)\n",
      "Requirement already satisfied: thinc<8.2.0,>=8.1.8 in /Users/raghavraahul/anaconda3/lib/python3.11/site-packages (from spacy<3.7.0,>=3.6.0->en-core-web-lg==3.6.0) (8.1.12)\n",
      "Requirement already satisfied: wasabi<1.2.0,>=0.9.1 in /Users/raghavraahul/anaconda3/lib/python3.11/site-packages (from spacy<3.7.0,>=3.6.0->en-core-web-lg==3.6.0) (1.1.2)\n",
      "Requirement already satisfied: srsly<3.0.0,>=2.4.3 in /Users/raghavraahul/anaconda3/lib/python3.11/site-packages (from spacy<3.7.0,>=3.6.0->en-core-web-lg==3.6.0) (2.4.7)\n",
      "Requirement already satisfied: catalogue<2.1.0,>=2.0.6 in /Users/raghavraahul/anaconda3/lib/python3.11/site-packages (from spacy<3.7.0,>=3.6.0->en-core-web-lg==3.6.0) (2.0.9)\n",
      "Requirement already satisfied: typer<0.10.0,>=0.3.0 in /Users/raghavraahul/anaconda3/lib/python3.11/site-packages (from spacy<3.7.0,>=3.6.0->en-core-web-lg==3.6.0) (0.9.0)\n",
      "Requirement already satisfied: pathy>=0.10.0 in /Users/raghavraahul/anaconda3/lib/python3.11/site-packages (from spacy<3.7.0,>=3.6.0->en-core-web-lg==3.6.0) (0.10.2)\n",
      "Requirement already satisfied: smart-open<7.0.0,>=5.2.1 in /Users/raghavraahul/anaconda3/lib/python3.11/site-packages (from spacy<3.7.0,>=3.6.0->en-core-web-lg==3.6.0) (5.2.1)\n",
      "Requirement already satisfied: tqdm<5.0.0,>=4.38.0 in /Users/raghavraahul/anaconda3/lib/python3.11/site-packages (from spacy<3.7.0,>=3.6.0->en-core-web-lg==3.6.0) (4.65.0)\n",
      "Requirement already satisfied: numpy>=1.15.0 in /Users/raghavraahul/anaconda3/lib/python3.11/site-packages (from spacy<3.7.0,>=3.6.0->en-core-web-lg==3.6.0) (1.24.3)\n",
      "Requirement already satisfied: requests<3.0.0,>=2.13.0 in /Users/raghavraahul/anaconda3/lib/python3.11/site-packages (from spacy<3.7.0,>=3.6.0->en-core-web-lg==3.6.0) (2.29.0)\n",
      "Requirement already satisfied: pydantic!=1.8,!=1.8.1,<3.0.0,>=1.7.4 in /Users/raghavraahul/anaconda3/lib/python3.11/site-packages (from spacy<3.7.0,>=3.6.0->en-core-web-lg==3.6.0) (2.3.0)\n",
      "Requirement already satisfied: jinja2 in /Users/raghavraahul/anaconda3/lib/python3.11/site-packages (from spacy<3.7.0,>=3.6.0->en-core-web-lg==3.6.0) (3.1.2)\n",
      "Requirement already satisfied: setuptools in /Users/raghavraahul/anaconda3/lib/python3.11/site-packages (from spacy<3.7.0,>=3.6.0->en-core-web-lg==3.6.0) (67.8.0)\n",
      "Requirement already satisfied: packaging>=20.0 in /Users/raghavraahul/anaconda3/lib/python3.11/site-packages (from spacy<3.7.0,>=3.6.0->en-core-web-lg==3.6.0) (23.0)\n",
      "Requirement already satisfied: langcodes<4.0.0,>=3.2.0 in /Users/raghavraahul/anaconda3/lib/python3.11/site-packages (from spacy<3.7.0,>=3.6.0->en-core-web-lg==3.6.0) (3.3.0)\n",
      "Requirement already satisfied: annotated-types>=0.4.0 in /Users/raghavraahul/anaconda3/lib/python3.11/site-packages (from pydantic!=1.8,!=1.8.1,<3.0.0,>=1.7.4->spacy<3.7.0,>=3.6.0->en-core-web-lg==3.6.0) (0.5.0)\n",
      "Requirement already satisfied: pydantic-core==2.6.3 in /Users/raghavraahul/anaconda3/lib/python3.11/site-packages (from pydantic!=1.8,!=1.8.1,<3.0.0,>=1.7.4->spacy<3.7.0,>=3.6.0->en-core-web-lg==3.6.0) (2.6.3)\n",
      "Requirement already satisfied: typing-extensions>=4.6.1 in /Users/raghavraahul/anaconda3/lib/python3.11/site-packages (from pydantic!=1.8,!=1.8.1,<3.0.0,>=1.7.4->spacy<3.7.0,>=3.6.0->en-core-web-lg==3.6.0) (4.7.1)\n",
      "Requirement already satisfied: charset-normalizer<4,>=2 in /Users/raghavraahul/anaconda3/lib/python3.11/site-packages (from requests<3.0.0,>=2.13.0->spacy<3.7.0,>=3.6.0->en-core-web-lg==3.6.0) (2.0.4)\n",
      "Requirement already satisfied: idna<4,>=2.5 in /Users/raghavraahul/anaconda3/lib/python3.11/site-packages (from requests<3.0.0,>=2.13.0->spacy<3.7.0,>=3.6.0->en-core-web-lg==3.6.0) (3.4)\n",
      "Requirement already satisfied: urllib3<1.27,>=1.21.1 in /Users/raghavraahul/anaconda3/lib/python3.11/site-packages (from requests<3.0.0,>=2.13.0->spacy<3.7.0,>=3.6.0->en-core-web-lg==3.6.0) (1.26.16)\n",
      "Requirement already satisfied: certifi>=2017.4.17 in /Users/raghavraahul/anaconda3/lib/python3.11/site-packages (from requests<3.0.0,>=2.13.0->spacy<3.7.0,>=3.6.0->en-core-web-lg==3.6.0) (2023.7.22)\n",
      "Requirement already satisfied: blis<0.8.0,>=0.7.8 in /Users/raghavraahul/anaconda3/lib/python3.11/site-packages (from thinc<8.2.0,>=8.1.8->spacy<3.7.0,>=3.6.0->en-core-web-lg==3.6.0) (0.7.10)\n",
      "Requirement already satisfied: confection<1.0.0,>=0.0.1 in /Users/raghavraahul/anaconda3/lib/python3.11/site-packages (from thinc<8.2.0,>=8.1.8->spacy<3.7.0,>=3.6.0->en-core-web-lg==3.6.0) (0.1.1)\n",
      "Requirement already satisfied: click<9.0.0,>=7.1.1 in /Users/raghavraahul/anaconda3/lib/python3.11/site-packages (from typer<0.10.0,>=0.3.0->spacy<3.7.0,>=3.6.0->en-core-web-lg==3.6.0) (8.0.4)\n",
      "Requirement already satisfied: MarkupSafe>=2.0 in /Users/raghavraahul/anaconda3/lib/python3.11/site-packages (from jinja2->spacy<3.7.0,>=3.6.0->en-core-web-lg==3.6.0) (2.1.1)\n",
      "Installing collected packages: en-core-web-lg\n",
      "Successfully installed en-core-web-lg-3.6.0\n",
      "\u001b[38;5;2m✔ Download and installation successful\u001b[0m\n",
      "You can now load the package via spacy.load('en_core_web_lg')\n"
     ]
    }
   ],
   "source": [
    "!python -m spacy download en_core_web_lg"
   ]
  },
  {
   "cell_type": "code",
   "execution_count": 6,
   "id": "3224e05c",
   "metadata": {},
   "outputs": [],
   "source": [
    "nlp = spacy.load(\"en_core_web_lg\")"
   ]
  },
  {
   "cell_type": "code",
   "execution_count": 14,
   "id": "103a515a",
   "metadata": {},
   "outputs": [
    {
     "name": "stdout",
     "output_type": "stream",
     "text": [
      "dog  |  True  |  False\n",
      "cat  |  True  |  False\n",
      "banana  |  True  |  False\n",
      "joke  |  True  |  False\n",
      "jkbfae  |  False  |  True\n"
     ]
    }
   ],
   "source": [
    "doc = nlp(\"dog cat banana joke jkbfae\")\n",
    "\n",
    "for token in doc:\n",
    "    print(token.text, \" | \", token.has_vector, \" | \", token.is_oov)\n",
    "#common words have vector and not oov, some random words don't have a vector and are oov."
   ]
  },
  {
   "cell_type": "raw",
   "id": "83ec5ae7",
   "metadata": {},
   "source": [
    "#spacy using global embedding (global vectors) and was probably trained on some english dataset\n",
    "\n",
    "#print vector\n",
    "doc[0].vector"
   ]
  },
  {
   "cell_type": "code",
   "execution_count": 17,
   "id": "a49f0327",
   "metadata": {},
   "outputs": [
    {
     "data": {
      "text/plain": [
       "(300,)"
      ]
     },
     "execution_count": 17,
     "metadata": {},
     "output_type": "execute_result"
    }
   ],
   "source": [
    "doc[0].vector.shape"
   ]
  },
  {
   "cell_type": "code",
   "execution_count": 21,
   "id": "1c400dd5",
   "metadata": {},
   "outputs": [
    {
     "data": {
      "text/plain": [
       "(300,)"
      ]
     },
     "execution_count": 21,
     "metadata": {},
     "output_type": "execute_result"
    }
   ],
   "source": [
    "#compare word vectors and see what kind of similarity we get\n",
    "base_token = nlp(\"bread\")\n",
    "base_token[0].vector.shape\n",
    "\n",
    "#sentence vector results from embedding is the average of individual word vectors"
   ]
  },
  {
   "cell_type": "code",
   "execution_count": 36,
   "id": "9719ae2e",
   "metadata": {},
   "outputs": [],
   "source": [
    "doc = nlp(\"bread pancake sandwich burger loaf car tiger bun human wheat baguette rice\")"
   ]
  },
  {
   "cell_type": "code",
   "execution_count": 37,
   "id": "a0fccbfd",
   "metadata": {},
   "outputs": [
    {
     "name": "stdout",
     "output_type": "stream",
     "text": [
      "bread  <->  bread  =  1.0\n",
      "pancake  <->  bread  =  0.6499507427215576\n",
      "sandwich  <->  bread  =  0.6341067552566528\n",
      "burger  <->  bread  =  0.4752068817615509\n",
      "loaf  <->  bread  =  0.7230866551399231\n",
      "car  <->  bread  =  0.06451532989740372\n",
      "tiger  <->  bread  =  0.04764612019062042\n",
      "bun  <->  bread  =  0.5145848989486694\n",
      "human  <->  bread  =  0.21511542797088623\n",
      "wheat  <->  bread  =  0.615036129951477\n",
      "baguette  <->  bread  =  0.5907067060470581\n",
      "rice  <->  bread  =  0.6082261204719543\n"
     ]
    }
   ],
   "source": [
    "for token in doc:\n",
    "    print(token.text, \" <-> \", base_token[0].text, \" = \", token.similarity(base_token[0]))"
   ]
  },
  {
   "cell_type": "raw",
   "id": "2a959e5d",
   "metadata": {},
   "source": [
    "for token in doc:\n",
    "    print(token.text, \" <-> \", base_token[0].text, \" = \", base_token[0].similarity(token))"
   ]
  },
  {
   "cell_type": "markdown",
   "id": "d77e8b50",
   "metadata": {},
   "source": []
  },
  {
   "cell_type": "markdown",
   "id": "eec5ff0f",
   "metadata": {},
   "source": [
    "When you train these models, the way these models work is they will look at the context of the words\n",
    "\n",
    "If two words appear in similar context, they will have higher similarity\n",
    "\n",
    "Similarity = appearing in similar context. so the words profit and loss despite having opposite meanings will have high similarity because they appear in similar contexts."
   ]
  },
  {
   "cell_type": "code",
   "execution_count": 40,
   "id": "6ca96686",
   "metadata": {},
   "outputs": [],
   "source": [
    "def print_similarity(base_word, words_to_compare):\n",
    "    base_token = nlp(base_word)\n",
    "    doc = nlp(words_to_compare)\n",
    "    for token in doc:\n",
    "        print(token.text, \" <-> \", base_token.text, \" = \", token.similarity(base_token))\n",
    "    "
   ]
  },
  {
   "cell_type": "code",
   "execution_count": 41,
   "id": "6362034d",
   "metadata": {},
   "outputs": [
    {
     "name": "stdout",
     "output_type": "stream",
     "text": [
      "apple  <->  iphone  =  0.4387907401919904\n",
      "samsung  <->  iphone  =  0.6708590303423401\n",
      "iphone  <->  iphone  =  0.9999999983096304\n",
      "dog  <->  iphone  =  0.08211864726684225\n",
      "kitten  <->  iphone  =  0.10222319084362265\n"
     ]
    }
   ],
   "source": [
    "print_similarity(\"iphone\", \"apple samsung iphone dog kitten\")"
   ]
  },
  {
   "cell_type": "code",
   "execution_count": 52,
   "id": "b1fcd8b9",
   "metadata": {},
   "outputs": [
    {
     "data": {
      "text/plain": [
       "array([[0.6178014]], dtype=float32)"
      ]
     },
     "execution_count": 52,
     "metadata": {},
     "output_type": "execute_result"
    }
   ],
   "source": [
    "#cosine similarity\n",
    "king = nlp.vocab[\"king\"].vector\n",
    "man = nlp.vocab[\"man\"].vector\n",
    "woman = nlp.vocab[\"woman\"].vector\n",
    "queen = nlp.vocab[\"queen\"].vector\n",
    "\n",
    "result = king - man + woman\n",
    "\n",
    "from sklearn.metrics.pairwise import cosine_similarity\n",
    "cosine_similarity([result], [queen])"
   ]
  },
  {
   "cell_type": "markdown",
   "id": "561ea26b",
   "metadata": {},
   "source": [
    "if cosine similarity is more than 0.5, then the two terms are considered to be quite similar"
   ]
  },
  {
   "cell_type": "code",
   "execution_count": null,
   "id": "de8311d6",
   "metadata": {},
   "outputs": [],
   "source": []
  }
 ],
 "metadata": {
  "kernelspec": {
   "display_name": "Python 3 (ipykernel)",
   "language": "python",
   "name": "python3"
  },
  "language_info": {
   "codemirror_mode": {
    "name": "ipython",
    "version": 3
   },
   "file_extension": ".py",
   "mimetype": "text/x-python",
   "name": "python",
   "nbconvert_exporter": "python",
   "pygments_lexer": "ipython3",
   "version": "3.11.3"
  }
 },
 "nbformat": 4,
 "nbformat_minor": 5
}
