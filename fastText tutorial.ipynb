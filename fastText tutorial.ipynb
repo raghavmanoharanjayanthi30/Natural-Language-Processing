{
 "cells": [
  {
   "cell_type": "code",
   "execution_count": 1,
   "id": "1193f7e2",
   "metadata": {},
   "outputs": [
    {
     "name": "stdout",
     "output_type": "stream",
     "text": [
      "Collecting fasttext\n",
      "  Downloading fasttext-0.9.2.tar.gz (68 kB)\n",
      "\u001b[2K     \u001b[90m━━━━━━━━━━━━━━━━━━━━━━━━━━━━━━━━━━━━━━━━\u001b[0m \u001b[32m68.8/68.8 kB\u001b[0m \u001b[31m3.2 MB/s\u001b[0m eta \u001b[36m0:00:00\u001b[0m\n",
      "\u001b[?25h  Preparing metadata (setup.py) ... \u001b[?25ldone\n",
      "\u001b[?25hCollecting pybind11>=2.2 (from fasttext)\n",
      "  Using cached pybind11-2.11.1-py3-none-any.whl (227 kB)\n",
      "Requirement already satisfied: setuptools>=0.7.0 in /Users/raghavraahul/anaconda3/lib/python3.11/site-packages (from fasttext) (67.8.0)\n",
      "Requirement already satisfied: numpy in /Users/raghavraahul/anaconda3/lib/python3.11/site-packages (from fasttext) (1.24.3)\n",
      "Building wheels for collected packages: fasttext\n",
      "  Building wheel for fasttext (setup.py) ... \u001b[?25ldone\n",
      "\u001b[?25h  Created wheel for fasttext: filename=fasttext-0.9.2-cp311-cp311-macosx_13_0_arm64.whl size=279043 sha256=fb8279072a263d0395022a7008f02c72c3cb98e3d85ff53a1c689f62ed7e66ce\n",
      "  Stored in directory: /Users/raghavraahul/Library/Caches/pip/wheels/12/89/c9/c932d04c4dd65abe347bbb3e6f7668688753cbc585305ad8b7\n",
      "Successfully built fasttext\n",
      "Installing collected packages: pybind11, fasttext\n",
      "Successfully installed fasttext-0.9.2 pybind11-2.11.1\n"
     ]
    }
   ],
   "source": [
    "!pip install fasttext"
   ]
  },
  {
   "cell_type": "code",
   "execution_count": 2,
   "id": "05ede07e",
   "metadata": {},
   "outputs": [],
   "source": [
    "#go to https://fasttext.cc/docs/en/crawl-vectors.html and download pre-trained models (english bin)"
   ]
  },
  {
   "cell_type": "code",
   "execution_count": 1,
   "id": "7a9c5341",
   "metadata": {},
   "outputs": [],
   "source": [
    "import fasttext"
   ]
  },
  {
   "cell_type": "code",
   "execution_count": 2,
   "id": "787217e3",
   "metadata": {},
   "outputs": [
    {
     "name": "stderr",
     "output_type": "stream",
     "text": [
      "Warning : `load_model` does not return WordVectorModel or SupervisedModel any more, but a `FastText` object which is very similar.\n"
     ]
    }
   ],
   "source": [
    "model_en = fasttext.load_model(\"/Users/raghavraahul/Downloads/cc.en.300.bin\")"
   ]
  },
  {
   "cell_type": "code",
   "execution_count": 3,
   "id": "493f8390",
   "metadata": {},
   "outputs": [],
   "source": [
    "#word vectors in this model can be directly accessed\n",
    "#model_en is trained used fasttext technique and it is trained on common crawl and wikipedia dataset"
   ]
  },
  {
   "cell_type": "code",
   "execution_count": 4,
   "id": "790a1093",
   "metadata": {},
   "outputs": [
    {
     "data": {
      "text/plain": [
       "['__class__',\n",
       " '__contains__',\n",
       " '__delattr__',\n",
       " '__dict__',\n",
       " '__dir__',\n",
       " '__doc__',\n",
       " '__eq__',\n",
       " '__format__',\n",
       " '__ge__',\n",
       " '__getattribute__',\n",
       " '__getitem__',\n",
       " '__getstate__',\n",
       " '__gt__',\n",
       " '__hash__',\n",
       " '__init__',\n",
       " '__init_subclass__',\n",
       " '__le__',\n",
       " '__lt__',\n",
       " '__module__',\n",
       " '__ne__',\n",
       " '__new__',\n",
       " '__reduce__',\n",
       " '__reduce_ex__',\n",
       " '__repr__',\n",
       " '__setattr__',\n",
       " '__sizeof__',\n",
       " '__str__',\n",
       " '__subclasshook__',\n",
       " '__weakref__',\n",
       " '_labels',\n",
       " '_words',\n",
       " 'f',\n",
       " 'get_analogies',\n",
       " 'get_dimension',\n",
       " 'get_input_matrix',\n",
       " 'get_input_vector',\n",
       " 'get_label_id',\n",
       " 'get_labels',\n",
       " 'get_line',\n",
       " 'get_meter',\n",
       " 'get_nearest_neighbors',\n",
       " 'get_output_matrix',\n",
       " 'get_sentence_vector',\n",
       " 'get_subword_id',\n",
       " 'get_subwords',\n",
       " 'get_word_id',\n",
       " 'get_word_vector',\n",
       " 'get_words',\n",
       " 'is_quantized',\n",
       " 'labels',\n",
       " 'predict',\n",
       " 'quantize',\n",
       " 'save_model',\n",
       " 'set_args',\n",
       " 'set_matrices',\n",
       " 'test',\n",
       " 'test_label',\n",
       " 'words']"
      ]
     },
     "execution_count": 4,
     "metadata": {},
     "output_type": "execute_result"
    }
   ],
   "source": [
    "dir(model_en) #shows all the available methods"
   ]
  },
  {
   "cell_type": "code",
   "execution_count": 5,
   "id": "73a2d9fa",
   "metadata": {},
   "outputs": [
    {
     "data": {
      "text/plain": [
       "[(0.7833111882209778, 'bad'),\n",
       " (0.7560961842536926, 'nice'),\n",
       " (0.735780656337738, 'goood'),\n",
       " (0.7073484659194946, 'terrific'),\n",
       " (0.6906806230545044, 'semi-good'),\n",
       " (0.6772378087043762, 'geat'),\n",
       " (0.6700340509414673, 'good-ish'),\n",
       " (0.6671645045280457, 'good-'),\n",
       " (0.6620287299156189, 'excellent'),\n",
       " (0.6466646790504456, 'perfect')]"
      ]
     },
     "execution_count": 5,
     "metadata": {},
     "output_type": "execute_result"
    }
   ],
   "source": [
    "#get_nearest_neighbors = returns similar words\n",
    "model_en.get_nearest_neighbors(\"good\")"
   ]
  },
  {
   "cell_type": "code",
   "execution_count": 6,
   "id": "b5dfc243",
   "metadata": {},
   "outputs": [
    {
     "data": {
      "text/plain": [
       "[(0.7469423413276672, 'cars'),\n",
       " (0.7249860167503357, 'automobile'),\n",
       " (0.7146169543266296, 'Car'),\n",
       " (0.6977283954620361, 'car.'),\n",
       " (0.6883124709129333, 'car--and'),\n",
       " (0.6844902038574219, 'truck'),\n",
       " (0.676340639591217, 'car.It'),\n",
       " (0.6740288734436035, 'car.Car'),\n",
       " (0.6697638034820557, 'car--'),\n",
       " (0.6690258979797363, 'vehicle')]"
      ]
     },
     "execution_count": 6,
     "metadata": {},
     "output_type": "execute_result"
    }
   ],
   "source": [
    "model_en.get_nearest_neighbors(\"car\")"
   ]
  },
  {
   "cell_type": "code",
   "execution_count": 7,
   "id": "5bc9894b",
   "metadata": {},
   "outputs": [
    {
     "data": {
      "text/plain": [
       "[(0.8682419061660767, 'potatoe'),\n",
       " (0.8119884133338928, 'potatoes'),\n",
       " (0.7266111373901367, 'potatos'),\n",
       " (0.7185920476913452, 'patato'),\n",
       " (0.7118244767189026, 'Potato'),\n",
       " (0.6958726048469543, 'potato.'),\n",
       " (0.6922985315322876, 'potato-'),\n",
       " (0.64674973487854, 'pototoes'),\n",
       " (0.6426151990890503, 'spuds'),\n",
       " (0.6387551426887512, 'potates')]"
      ]
     },
     "execution_count": 7,
     "metadata": {},
     "output_type": "execute_result"
    }
   ],
   "source": [
    "model_en.get_nearest_neighbors(\"potato\")"
   ]
  },
  {
   "cell_type": "code",
   "execution_count": 8,
   "id": "c09e4330",
   "metadata": {},
   "outputs": [
    {
     "data": {
      "text/plain": [
       "array([-9.04042125e-02, -1.02516696e-01, -2.74977516e-02, -4.51704524e-02,\n",
       "       -2.95031201e-02, -1.68300921e-03,  9.19353291e-02, -8.00484209e-04,\n",
       "        9.27969161e-03, -1.59215077e-03, -9.82641801e-02,  9.77567025e-03,\n",
       "        1.34735915e-03,  6.71226997e-03,  2.95357965e-02,  5.56560680e-02,\n",
       "        4.45280746e-02, -2.97806114e-02, -6.48602545e-02, -2.56452411e-02,\n",
       "        1.25433495e-02,  9.09238383e-02,  1.93303823e-02,  3.73555417e-03,\n",
       "       -3.63192670e-02, -7.26949349e-02,  4.78059277e-02, -1.37433293e-03,\n",
       "        3.93722095e-02,  8.85284245e-02,  5.50741255e-02, -6.61179349e-02,\n",
       "       -6.01644590e-02, -1.17705181e-01,  2.49172077e-02,  6.22161888e-02,\n",
       "        7.64680952e-02, -1.33032113e-01, -2.55038925e-02, -2.09066942e-02,\n",
       "       -3.48754413e-02,  3.52315083e-02, -8.33487064e-02, -2.23920122e-03,\n",
       "       -5.69390468e-02, -9.41858441e-02,  1.95297189e-02, -7.58360997e-02,\n",
       "       -4.77206707e-02,  3.12221423e-03, -8.66346881e-02,  4.19049349e-04,\n",
       "       -4.44984138e-02, -5.48931397e-03, -7.25287348e-02,  2.26125009e-02,\n",
       "        3.72868031e-02, -9.98658240e-02, -5.95091693e-02, -4.53571342e-02,\n",
       "       -6.98078889e-03, -4.09730226e-02, -4.42523919e-02, -1.47460178e-01,\n",
       "        3.32079828e-02, -5.44247159e-04, -6.41069636e-02,  1.51629222e-03,\n",
       "       -6.82249367e-02,  6.72837673e-03, -3.66817117e-02, -4.68102023e-02,\n",
       "        2.72458997e-02,  4.73679677e-02, -8.27432424e-03, -2.85439603e-02,\n",
       "        3.79635096e-02,  6.28536865e-02,  1.23702539e-02,  1.66516528e-02,\n",
       "        5.76080978e-02, -3.94749157e-02,  1.53580671e-02,  1.39681473e-02,\n",
       "        1.15375584e-02, -3.81323583e-02,  1.33852556e-01, -8.25911015e-02,\n",
       "        9.82638299e-02, -8.90749991e-02,  4.14827578e-02,  2.46480592e-02,\n",
       "        2.14975178e-01, -1.71604604e-02, -8.75309631e-02,  1.92393601e-01,\n",
       "        6.24153577e-03,  1.08100139e-01, -1.31672919e-02, -5.99231683e-02,\n",
       "        6.29017875e-03,  7.74248168e-02,  4.81871888e-02, -3.17882933e-02,\n",
       "       -3.67824063e-02,  3.88900489e-02, -3.73325124e-02, -7.87855219e-03,\n",
       "        1.61360670e-02, -3.26755159e-02, -3.76660302e-02,  9.77343023e-02,\n",
       "       -2.77063530e-03, -1.11561045e-01,  3.09296995e-02, -1.18852211e-02,\n",
       "        2.66388953e-02,  2.37519853e-02,  5.70306852e-02,  4.38245200e-02,\n",
       "        8.61017630e-02,  7.16185756e-03, -2.29432341e-02,  5.00426255e-02,\n",
       "        6.42144680e-02, -3.97334620e-02,  2.10088678e-02,  2.91007012e-02,\n",
       "       -1.23197779e-01,  3.97299752e-02,  1.35235246e-02, -3.85016687e-02,\n",
       "        3.07482071e-02,  6.03116378e-02,  8.00501369e-03, -6.67735934e-02,\n",
       "       -8.29937160e-02,  4.97453958e-02, -4.65077609e-02, -1.96991377e-02,\n",
       "       -9.63263065e-02,  3.54129486e-02,  5.95974475e-02,  2.60748565e-02,\n",
       "        1.05299726e-01, -8.69379938e-03, -1.84350282e-01, -8.84995684e-02,\n",
       "       -5.65953553e-03,  4.65557799e-02, -1.59613729e-01,  2.39504259e-02,\n",
       "        1.13451881e-02,  5.06083155e-03, -4.22674743e-03,  7.74001628e-02,\n",
       "        2.64057629e-02,  7.93249235e-02,  1.84241892e-03,  6.70902878e-02,\n",
       "        4.84354906e-02, -8.95978976e-03, -3.19224894e-02, -3.10339849e-03,\n",
       "       -3.31845358e-02, -3.03910486e-02, -1.05859828e-03, -3.94355580e-02,\n",
       "        1.02707595e-01,  3.14359218e-02, -3.77489999e-02, -5.31502739e-02,\n",
       "       -2.55305110e-03, -7.31375907e-03, -9.35709290e-03, -8.06631967e-02,\n",
       "       -4.26172325e-03, -3.82757410e-02,  4.82865237e-03, -8.75128955e-02,\n",
       "        8.04447755e-03,  8.03224370e-02, -4.48120907e-02,  8.28605965e-02,\n",
       "        3.25182686e-03,  8.33850130e-02,  4.79874127e-02, -7.04203919e-02,\n",
       "       -5.91413006e-02, -6.64657429e-02,  3.05743031e-02,  6.01439849e-02,\n",
       "        5.24171516e-02, -6.75901771e-02, -9.25747305e-03, -1.59572426e-03,\n",
       "       -3.59597839e-02, -4.17035893e-02, -1.49014173e-02,  9.00028273e-02,\n",
       "        1.56023249e-03,  1.45035349e-02,  3.45385969e-02, -4.25395072e-02,\n",
       "        1.02200359e-03, -9.39803571e-03, -7.97375590e-02, -7.12747127e-02,\n",
       "       -5.05225584e-02,  7.20437616e-02,  7.86170661e-02,  1.27713159e-02,\n",
       "        1.12859949e-01, -1.14133917e-02, -5.79033457e-02, -2.47476585e-02,\n",
       "        6.49434030e-02, -3.79389077e-02,  7.39088953e-02,  1.42051399e-01,\n",
       "        4.81647924e-02, -2.68429006e-03,  1.47293359e-02,  1.65146571e-02,\n",
       "       -4.28881118e-04, -3.34134586e-02,  2.90361568e-02, -1.21759688e-02,\n",
       "       -1.28067851e-01,  3.23922280e-03,  1.02056544e-02,  4.23581805e-03,\n",
       "        2.82390378e-02, -6.49967194e-02,  7.38129718e-03, -9.44334790e-02,\n",
       "       -2.64826082e-02,  1.64871961e-02, -8.79424810e-03, -7.11108670e-02,\n",
       "        6.35824353e-02,  1.12142963e-02,  7.28257075e-02,  3.32243089e-03,\n",
       "        1.77653223e-01, -5.85351661e-02,  4.74802330e-02,  3.18171680e-02,\n",
       "       -3.08251940e-02,  4.76749651e-02, -2.41473410e-03,  1.02377534e-02,\n",
       "       -2.68119182e-02, -7.94022903e-02, -3.47998440e-02,  3.50634828e-02,\n",
       "       -3.48927230e-02,  1.24835904e-04,  1.13138482e-01,  5.35683557e-02,\n",
       "       -3.47494707e-02, -1.08987898e-01,  2.12005824e-01,  1.01152912e-01,\n",
       "       -6.42186180e-02,  5.20020574e-02,  1.12709645e-02, -1.28886312e-01,\n",
       "        2.75608953e-02, -1.89669997e-01, -5.94084263e-02, -6.11988716e-02,\n",
       "        1.30775906e-02,  8.82382989e-02, -8.50071013e-02,  3.21363136e-02,\n",
       "       -1.18194774e-01, -4.50557703e-03,  1.84653074e-01, -2.13008802e-02,\n",
       "       -2.12239444e-01,  6.97745681e-02, -6.16877377e-02, -2.15039514e-02,\n",
       "        9.05876756e-02, -2.43647844e-02, -1.87730920e-02, -5.15074655e-02,\n",
       "       -3.25140767e-02, -4.23018355e-03,  5.18888384e-02,  3.36569175e-03,\n",
       "       -6.55941516e-02, -6.77093165e-04,  4.28665802e-02,  2.36006193e-02,\n",
       "        1.12780426e-02,  1.56157911e-01, -9.41053629e-02, -7.11766630e-02],\n",
       "      dtype=float32)"
      ]
     },
     "execution_count": 8,
     "metadata": {},
     "output_type": "execute_result"
    }
   ],
   "source": [
    "#get individual word vector\n",
    "model_en.get_word_vector(\"good\")"
   ]
  },
  {
   "cell_type": "code",
   "execution_count": 9,
   "id": "73c489c8",
   "metadata": {},
   "outputs": [
    {
     "data": {
      "text/plain": [
       "[(0.7265171408653259, 'delhi'),\n",
       " (0.6995466947555542, 'mumbai'),\n",
       " (0.6609255075454712, 'pune'),\n",
       " (0.6263071298599243, 'bhopal'),\n",
       " (0.623063325881958, 'noida'),\n",
       " (0.622911810874939, 'indore'),\n",
       " (0.6206138730049133, 'kolkata'),\n",
       " (0.6189044117927551, 'chandigarh'),\n",
       " (0.61227947473526, 'hyderabad'),\n",
       " (0.6105425357818604, 'nepal')]"
      ]
     },
     "execution_count": 9,
     "metadata": {},
     "output_type": "execute_result"
    }
   ],
   "source": [
    "model_en.get_analogies(\"berlin\", \"germany\", \"india\")\n",
    "#will predict word for india based on relationship between germany and berlin."
   ]
  },
  {
   "cell_type": "code",
   "execution_count": 10,
   "id": "e06ec56a",
   "metadata": {},
   "outputs": [
    {
     "data": {
      "text/plain": [
       "[(0.5246671438217163, 'phone.My'),\n",
       " (0.5089479088783264, 'phone.That'),\n",
       " (0.5008423328399658, 'phone.For'),\n",
       " (0.4958234429359436, 'phone.One'),\n",
       " (0.49303847551345825, 'texting'),\n",
       " (0.4923208951950073, 'phone.When'),\n",
       " (0.4919848144054413, 'phoning'),\n",
       " (0.48583632707595825, 'phones.If'),\n",
       " (0.48270928859710693, 'phone.Now'),\n",
       " (0.4785597026348114, 'phone.In')]"
      ]
     },
     "execution_count": 10,
     "metadata": {},
     "output_type": "execute_result"
    }
   ],
   "source": [
    "model_en.get_analogies(\"driving\", \"car\", \"phone\")"
   ]
  },
  {
   "cell_type": "code",
   "execution_count": 11,
   "id": "d21a1d41",
   "metadata": {},
   "outputs": [
    {
     "data": {
      "text/plain": [
       "[(0.47885045409202576, 'book.For'),\n",
       " (0.47080591320991516, 'book.While'),\n",
       " (0.458933562040329, 'book.I'),\n",
       " (0.4505253732204437, 'boook'),\n",
       " (0.44228801131248474, 'soon-to-be-published'),\n",
       " (0.44167959690093994, 'book.The'),\n",
       " (0.4390265941619873, 'book-'),\n",
       " (0.43834826350212097, 'book.That'),\n",
       " (0.43799716234207153, 'book.In'),\n",
       " (0.4377058744430542, 'reading')]"
      ]
     },
     "execution_count": 11,
     "metadata": {},
     "output_type": "execute_result"
    }
   ],
   "source": [
    "model_en.get_analogies(\"driving\", \"car\", \"book\")"
   ]
  },
  {
   "cell_type": "code",
   "execution_count": 12,
   "id": "09a40bde",
   "metadata": {},
   "outputs": [
    {
     "data": {
      "text/plain": [
       "[(0.7903800010681152, 'chutneys'),\n",
       " (0.7058680653572083, 'Chutney'),\n",
       " (0.6938886642456055, 'piccalilli'),\n",
       " (0.6823434233665466, 'chutney.'),\n",
       " (0.6762783527374268, 'thokku'),\n",
       " (0.675764799118042, 'kasundi'),\n",
       " (0.6687694191932678, 'achaar'),\n",
       " (0.6602962017059326, 'chatni'),\n",
       " (0.6447804570198059, 'raita'),\n",
       " (0.6318756341934204, 'pachadi')]"
      ]
     },
     "execution_count": 12,
     "metadata": {},
     "output_type": "execute_result"
    }
   ],
   "source": [
    "model_en.get_nearest_neighbors(\"chutney\") #shows that this model was not trained on indian food recipes dataset"
   ]
  },
  {
   "cell_type": "code",
   "execution_count": 13,
   "id": "fc5d6fb1",
   "metadata": {},
   "outputs": [
    {
     "data": {
      "text/html": [
       "<div>\n",
       "<style scoped>\n",
       "    .dataframe tbody tr th:only-of-type {\n",
       "        vertical-align: middle;\n",
       "    }\n",
       "\n",
       "    .dataframe tbody tr th {\n",
       "        vertical-align: top;\n",
       "    }\n",
       "\n",
       "    .dataframe thead th {\n",
       "        text-align: right;\n",
       "    }\n",
       "</style>\n",
       "<table border=\"1\" class=\"dataframe\">\n",
       "  <thead>\n",
       "    <tr style=\"text-align: right;\">\n",
       "      <th></th>\n",
       "      <th>TranslatedRecipeName</th>\n",
       "      <th>TranslatedIngredients</th>\n",
       "      <th>TotalTimeInMins</th>\n",
       "      <th>Cuisine</th>\n",
       "      <th>TranslatedInstructions</th>\n",
       "      <th>URL</th>\n",
       "      <th>Cleaned-Ingredients</th>\n",
       "      <th>image-url</th>\n",
       "      <th>Ingredient-count</th>\n",
       "    </tr>\n",
       "  </thead>\n",
       "  <tbody>\n",
       "    <tr>\n",
       "      <th>0</th>\n",
       "      <td>Masala Karela Recipe</td>\n",
       "      <td>1 tablespoon Red Chilli powder,3 tablespoon Gr...</td>\n",
       "      <td>45</td>\n",
       "      <td>Indian</td>\n",
       "      <td>To begin making the Masala Karela Recipe,de-se...</td>\n",
       "      <td>https://www.archanaskitchen.com/masala-karela-...</td>\n",
       "      <td>salt,amchur (dry mango powder),karela (bitter ...</td>\n",
       "      <td>https://www.archanaskitchen.com/images/archana...</td>\n",
       "      <td>10</td>\n",
       "    </tr>\n",
       "    <tr>\n",
       "      <th>1</th>\n",
       "      <td>Spicy Tomato Rice (Recipe)</td>\n",
       "      <td>2 teaspoon cashew - or peanuts, 1/2 Teaspoon ...</td>\n",
       "      <td>15</td>\n",
       "      <td>South Indian Recipes</td>\n",
       "      <td>To make tomato puliogere, first cut the tomato...</td>\n",
       "      <td>https://www.archanaskitchen.com/spicy-tomato-r...</td>\n",
       "      <td>tomato,salt,chickpea lentils,green chilli,rice...</td>\n",
       "      <td>https://www.archanaskitchen.com/images/archana...</td>\n",
       "      <td>12</td>\n",
       "    </tr>\n",
       "    <tr>\n",
       "      <th>2</th>\n",
       "      <td>Ragi Semiya Upma Recipe - Ragi Millet Vermicel...</td>\n",
       "      <td>1 Onion - sliced,1 teaspoon White Urad Dal (Sp...</td>\n",
       "      <td>50</td>\n",
       "      <td>South Indian Recipes</td>\n",
       "      <td>To begin making the Ragi Vermicelli Recipe, fi...</td>\n",
       "      <td>https://www.archanaskitchen.com/ragi-vermicell...</td>\n",
       "      <td>salt,rice vermicelli noodles (thin),asafoetida...</td>\n",
       "      <td>https://www.archanaskitchen.com/images/archana...</td>\n",
       "      <td>12</td>\n",
       "    </tr>\n",
       "    <tr>\n",
       "      <th>3</th>\n",
       "      <td>Gongura Chicken Curry Recipe - Andhra Style Go...</td>\n",
       "      <td>1/2 teaspoon Turmeric powder (Haldi),1 tablesp...</td>\n",
       "      <td>45</td>\n",
       "      <td>Andhra</td>\n",
       "      <td>To begin making Gongura Chicken Curry Recipe f...</td>\n",
       "      <td>https://www.archanaskitchen.com/gongura-chicke...</td>\n",
       "      <td>tomato,salt,ginger,sorrel leaves (gongura),fen...</td>\n",
       "      <td>https://www.archanaskitchen.com/images/archana...</td>\n",
       "      <td>15</td>\n",
       "    </tr>\n",
       "    <tr>\n",
       "      <th>4</th>\n",
       "      <td>Andhra Style Alam Pachadi Recipe - Adrak Chutn...</td>\n",
       "      <td>oil - as per use, 1 tablespoon coriander seed...</td>\n",
       "      <td>30</td>\n",
       "      <td>Andhra</td>\n",
       "      <td>To make Andhra Style Alam Pachadi, first heat ...</td>\n",
       "      <td>https://www.archanaskitchen.com/andhra-style-a...</td>\n",
       "      <td>tomato,salt,ginger,red chillies,curry,asafoeti...</td>\n",
       "      <td>https://www.archanaskitchen.com/images/archana...</td>\n",
       "      <td>12</td>\n",
       "    </tr>\n",
       "  </tbody>\n",
       "</table>\n",
       "</div>"
      ],
      "text/plain": [
       "                                TranslatedRecipeName  \\\n",
       "0                               Masala Karela Recipe   \n",
       "1                         Spicy Tomato Rice (Recipe)   \n",
       "2  Ragi Semiya Upma Recipe - Ragi Millet Vermicel...   \n",
       "3  Gongura Chicken Curry Recipe - Andhra Style Go...   \n",
       "4  Andhra Style Alam Pachadi Recipe - Adrak Chutn...   \n",
       "\n",
       "                               TranslatedIngredients  TotalTimeInMins  \\\n",
       "0  1 tablespoon Red Chilli powder,3 tablespoon Gr...               45   \n",
       "1   2 teaspoon cashew - or peanuts, 1/2 Teaspoon ...               15   \n",
       "2  1 Onion - sliced,1 teaspoon White Urad Dal (Sp...               50   \n",
       "3  1/2 teaspoon Turmeric powder (Haldi),1 tablesp...               45   \n",
       "4   oil - as per use, 1 tablespoon coriander seed...               30   \n",
       "\n",
       "                Cuisine                             TranslatedInstructions  \\\n",
       "0                Indian  To begin making the Masala Karela Recipe,de-se...   \n",
       "1  South Indian Recipes  To make tomato puliogere, first cut the tomato...   \n",
       "2  South Indian Recipes  To begin making the Ragi Vermicelli Recipe, fi...   \n",
       "3                Andhra  To begin making Gongura Chicken Curry Recipe f...   \n",
       "4                Andhra  To make Andhra Style Alam Pachadi, first heat ...   \n",
       "\n",
       "                                                 URL  \\\n",
       "0  https://www.archanaskitchen.com/masala-karela-...   \n",
       "1  https://www.archanaskitchen.com/spicy-tomato-r...   \n",
       "2  https://www.archanaskitchen.com/ragi-vermicell...   \n",
       "3  https://www.archanaskitchen.com/gongura-chicke...   \n",
       "4  https://www.archanaskitchen.com/andhra-style-a...   \n",
       "\n",
       "                                 Cleaned-Ingredients  \\\n",
       "0  salt,amchur (dry mango powder),karela (bitter ...   \n",
       "1  tomato,salt,chickpea lentils,green chilli,rice...   \n",
       "2  salt,rice vermicelli noodles (thin),asafoetida...   \n",
       "3  tomato,salt,ginger,sorrel leaves (gongura),fen...   \n",
       "4  tomato,salt,ginger,red chillies,curry,asafoeti...   \n",
       "\n",
       "                                           image-url  Ingredient-count  \n",
       "0  https://www.archanaskitchen.com/images/archana...                10  \n",
       "1  https://www.archanaskitchen.com/images/archana...                12  \n",
       "2  https://www.archanaskitchen.com/images/archana...                12  \n",
       "3  https://www.archanaskitchen.com/images/archana...                15  \n",
       "4  https://www.archanaskitchen.com/images/archana...                12  "
      ]
     },
     "execution_count": 13,
     "metadata": {},
     "output_type": "execute_result"
    }
   ],
   "source": [
    "#train model on indian food recipes dataset\n",
    "import pandas as pd\n",
    "df = pd.read_csv(\"Cleaned_Indian_Food_Dataset.csv\")\n",
    "df.head(5)"
   ]
  },
  {
   "cell_type": "code",
   "execution_count": 14,
   "id": "7642bf36",
   "metadata": {},
   "outputs": [
    {
     "data": {
      "text/plain": [
       "(5938, 9)"
      ]
     },
     "execution_count": 14,
     "metadata": {},
     "output_type": "execute_result"
    }
   ],
   "source": [
    "df.shape"
   ]
  },
  {
   "cell_type": "code",
   "execution_count": 15,
   "id": "848a534b",
   "metadata": {},
   "outputs": [],
   "source": [
    "#when using continous bag of words or skip gram, it is an unsupervised learning approach"
   ]
  },
  {
   "cell_type": "code",
   "execution_count": 21,
   "id": "208581cc",
   "metadata": {},
   "outputs": [
    {
     "data": {
      "text/plain": [
       "'To begin making the Masala Karela Recipe,de-seed the karela and slice.\\nDo not remove the skin as the skin has all the nutrients.\\nAdd the karela to the pressure cooker with 3 tablespoon of water, salt and turmeric powder and pressure cook for three whistles.\\nRelease the pressure immediately and open the lids.\\nKeep aside.Heat oil in a heavy bottomed pan or a kadhai.\\nAdd cumin seeds and let it sizzle.Once the cumin seeds have sizzled, add onions and saute them till it turns golden brown in color.Add the karela, red chilli powder, amchur powder, coriander powder and besan.\\nStir to combine the masalas into the karela.Drizzle a little extra oil on the top and mix again.\\nCover the pan and simmer Masala Karela stirring occasionally until everything comes together well.\\nTurn off the heat.Transfer Masala Karela into a serving bowl and serve.Serve Masala Karela along with Panchmel Dal and Phulka for a weekday meal with your family.\\n'"
      ]
     },
     "execution_count": 21,
     "metadata": {},
     "output_type": "execute_result"
    }
   ],
   "source": [
    "df.TranslatedInstructions[0]"
   ]
  },
  {
   "cell_type": "code",
   "execution_count": 22,
   "id": "a3b31c5f",
   "metadata": {},
   "outputs": [],
   "source": [
    "text = 'To begin making the Masala Karela Recipe,de-seed the karela and slice.\\nDo not remove the skin as the skin has all the nutrients.\\nAdd the karela to the pressure cooker with 3 tablespoon of water, salt and turmeric powder and pressure cook for three whistles.\\nRelease the pressure immediately and open the lids.\\nKeep aside.Heat oil in a heavy bottomed pan or a kadhai.\\nAdd cumin seeds and let it sizzle.Once the cumin seeds have sizzled, add onions and saute them till it turns golden brown in color.Add the karela, red chilli powder, amchur powder, coriander powder and besan.\\nStir to combine the masalas into the karela.Drizzle a little extra oil on the top and mix again.\\nCover the pan and simmer Masala Karela stirring occasionally until everything comes together well.\\nTurn off the heat.Transfer Masala Karela into a serving bowl and serve.Serve Masala Karela along with Panchmel Dal and Phulka for a weekday meal with your family.\\n'"
   ]
  },
  {
   "cell_type": "code",
   "execution_count": 23,
   "id": "ffc34207",
   "metadata": {},
   "outputs": [],
   "source": [
    "import re"
   ]
  },
  {
   "cell_type": "code",
   "execution_count": 25,
   "id": "279af734",
   "metadata": {},
   "outputs": [
    {
     "data": {
      "text/plain": [
       "'To begin making the Masala Karela Recipe de seed the karela and slice \\nDo not remove the skin as the skin has all the nutrients \\nAdd the karela to the pressure cooker with 3 tablespoon of water  salt and turmeric powder and pressure cook for three whistles \\nRelease the pressure immediately and open the lids \\nKeep aside Heat oil in a heavy bottomed pan or a kadhai \\nAdd cumin seeds and let it sizzle Once the cumin seeds have sizzled  add onions and saute them till it turns golden brown in color Add the karela  red chilli powder  amchur powder  coriander powder and besan \\nStir to combine the masalas into the karela Drizzle a little extra oil on the top and mix again \\nCover the pan and simmer Masala Karela stirring occasionally until everything comes together well \\nTurn off the heat Transfer Masala Karela into a serving bowl and serve Serve Masala Karela along with Panchmel Dal and Phulka for a weekday meal with your family \\n'"
      ]
     },
     "execution_count": 25,
     "metadata": {},
     "output_type": "execute_result"
    }
   ],
   "source": [
    "re.sub(r\"[^\\w\\s]\", \" \", text, flags = re.MULTILINE)"
   ]
  },
  {
   "cell_type": "code",
   "execution_count": 29,
   "id": "3b74efac",
   "metadata": {},
   "outputs": [
    {
     "data": {
      "text/plain": [
       "'To begin making the Masala Karela Recipe,de-seed the karela and slice. Do not remove the skin as the skin has all the nutrients. Add the karela to the pressure cooker with 3 tablespoon of water, salt and turmeric powder and pressure cook for three whistles. Release the pressure immediately and open the lids. Keep aside.Heat oil in a heavy bottomed pan or a kadhai. Add cumin seeds and let it sizzle.Once the cumin seeds have sizzled, add onions and saute them till it turns golden brown in color.Add the karela, red chilli powder, amchur powder, coriander powder and besan. Stir to combine the masalas into the karela.Drizzle a little extra oil on the top and mix again. Cover the pan and simmer Masala Karela stirring occasionally until everything comes together well. Turn off the heat.Transfer Masala Karela into a serving bowl and serve.Serve Masala Karela along with Panchmel Dal and Phulka for a weekday meal with your family. '"
      ]
     },
     "execution_count": 29,
     "metadata": {},
     "output_type": "execute_result"
    }
   ],
   "source": [
    "re.sub(\"[ \\n]+\", \" \", text) #when you get an occurence of more than one space or more than one \n",
    "#newline character, substitute with single space"
   ]
  },
  {
   "cell_type": "code",
   "execution_count": 36,
   "id": "1be321c5",
   "metadata": {},
   "outputs": [],
   "source": [
    "def preprocess(text):\n",
    "    text = re.sub(r\"[^\\w\\s]\", \" \", text, flags = re.MULTILINE)\n",
    "    text = re.sub(\"[ \\n]+\", \" \", text).lower() #lower method converts all characters to lowercase\n",
    "    text = text.strip() #removes leading and trailing spaces\n",
    "    return text"
   ]
  },
  {
   "cell_type": "code",
   "execution_count": 37,
   "id": "f5fbadc8",
   "metadata": {},
   "outputs": [
    {
     "data": {
      "text/plain": [
       "'to begin making the masala karela recipe de seed the karela and slice do not remove the skin as the skin has all the nutrients add the karela to the pressure cooker with 3 tablespoon of water salt and turmeric powder and pressure cook for three whistles release the pressure immediately and open the lids keep aside heat oil in a heavy bottomed pan or a kadhai add cumin seeds and let it sizzle once the cumin seeds have sizzled add onions and saute them till it turns golden brown in color add the karela red chilli powder amchur powder coriander powder and besan stir to combine the masalas into the karela drizzle a little extra oil on the top and mix again cover the pan and simmer masala karela stirring occasionally until everything comes together well turn off the heat transfer masala karela into a serving bowl and serve serve masala karela along with panchmel dal and phulka for a weekday meal with your family'"
      ]
     },
     "execution_count": 37,
     "metadata": {},
     "output_type": "execute_result"
    }
   ],
   "source": [
    "preprocess('To begin making the Masala Karela Recipe,de-seed the karela and slice.\\nDo not remove the skin as the skin has all the nutrients.\\nAdd the karela to the pressure cooker with 3 tablespoon of water, salt and turmeric powder and pressure cook for three whistles.\\nRelease the pressure immediately and open the lids.\\nKeep aside.Heat oil in a heavy bottomed pan or a kadhai.\\nAdd cumin seeds and let it sizzle.Once the cumin seeds have sizzled, add onions and saute them till it turns golden brown in color.Add the karela, red chilli powder, amchur powder, coriander powder and besan.\\nStir to combine the masalas into the karela.Drizzle a little extra oil on the top and mix again.\\nCover the pan and simmer Masala Karela stirring occasionally until everything comes together well.\\nTurn off the heat.Transfer Masala Karela into a serving bowl and serve.Serve Masala Karela along with Panchmel Dal and Phulka for a weekday meal with your family.\\n')"
   ]
  },
  {
   "cell_type": "code",
   "execution_count": 38,
   "id": "14c51dbe",
   "metadata": {},
   "outputs": [],
   "source": [
    "df.TranslatedInstructions = df.TranslatedInstructions.map(preprocess)"
   ]
  },
  {
   "cell_type": "code",
   "execution_count": 39,
   "id": "88c03666",
   "metadata": {},
   "outputs": [
    {
     "data": {
      "text/html": [
       "<div>\n",
       "<style scoped>\n",
       "    .dataframe tbody tr th:only-of-type {\n",
       "        vertical-align: middle;\n",
       "    }\n",
       "\n",
       "    .dataframe tbody tr th {\n",
       "        vertical-align: top;\n",
       "    }\n",
       "\n",
       "    .dataframe thead th {\n",
       "        text-align: right;\n",
       "    }\n",
       "</style>\n",
       "<table border=\"1\" class=\"dataframe\">\n",
       "  <thead>\n",
       "    <tr style=\"text-align: right;\">\n",
       "      <th></th>\n",
       "      <th>TranslatedRecipeName</th>\n",
       "      <th>TranslatedIngredients</th>\n",
       "      <th>TotalTimeInMins</th>\n",
       "      <th>Cuisine</th>\n",
       "      <th>TranslatedInstructions</th>\n",
       "      <th>URL</th>\n",
       "      <th>Cleaned-Ingredients</th>\n",
       "      <th>image-url</th>\n",
       "      <th>Ingredient-count</th>\n",
       "    </tr>\n",
       "  </thead>\n",
       "  <tbody>\n",
       "    <tr>\n",
       "      <th>0</th>\n",
       "      <td>Masala Karela Recipe</td>\n",
       "      <td>1 tablespoon Red Chilli powder,3 tablespoon Gr...</td>\n",
       "      <td>45</td>\n",
       "      <td>Indian</td>\n",
       "      <td>to begin making the masala karela recipe de se...</td>\n",
       "      <td>https://www.archanaskitchen.com/masala-karela-...</td>\n",
       "      <td>salt,amchur (dry mango powder),karela (bitter ...</td>\n",
       "      <td>https://www.archanaskitchen.com/images/archana...</td>\n",
       "      <td>10</td>\n",
       "    </tr>\n",
       "    <tr>\n",
       "      <th>1</th>\n",
       "      <td>Spicy Tomato Rice (Recipe)</td>\n",
       "      <td>2 teaspoon cashew - or peanuts, 1/2 Teaspoon ...</td>\n",
       "      <td>15</td>\n",
       "      <td>South Indian Recipes</td>\n",
       "      <td>to make tomato puliogere first cut the tomatoe...</td>\n",
       "      <td>https://www.archanaskitchen.com/spicy-tomato-r...</td>\n",
       "      <td>tomato,salt,chickpea lentils,green chilli,rice...</td>\n",
       "      <td>https://www.archanaskitchen.com/images/archana...</td>\n",
       "      <td>12</td>\n",
       "    </tr>\n",
       "    <tr>\n",
       "      <th>2</th>\n",
       "      <td>Ragi Semiya Upma Recipe - Ragi Millet Vermicel...</td>\n",
       "      <td>1 Onion - sliced,1 teaspoon White Urad Dal (Sp...</td>\n",
       "      <td>50</td>\n",
       "      <td>South Indian Recipes</td>\n",
       "      <td>to begin making the ragi vermicelli recipe fir...</td>\n",
       "      <td>https://www.archanaskitchen.com/ragi-vermicell...</td>\n",
       "      <td>salt,rice vermicelli noodles (thin),asafoetida...</td>\n",
       "      <td>https://www.archanaskitchen.com/images/archana...</td>\n",
       "      <td>12</td>\n",
       "    </tr>\n",
       "  </tbody>\n",
       "</table>\n",
       "</div>"
      ],
      "text/plain": [
       "                                TranslatedRecipeName  \\\n",
       "0                               Masala Karela Recipe   \n",
       "1                         Spicy Tomato Rice (Recipe)   \n",
       "2  Ragi Semiya Upma Recipe - Ragi Millet Vermicel...   \n",
       "\n",
       "                               TranslatedIngredients  TotalTimeInMins  \\\n",
       "0  1 tablespoon Red Chilli powder,3 tablespoon Gr...               45   \n",
       "1   2 teaspoon cashew - or peanuts, 1/2 Teaspoon ...               15   \n",
       "2  1 Onion - sliced,1 teaspoon White Urad Dal (Sp...               50   \n",
       "\n",
       "                Cuisine                             TranslatedInstructions  \\\n",
       "0                Indian  to begin making the masala karela recipe de se...   \n",
       "1  South Indian Recipes  to make tomato puliogere first cut the tomatoe...   \n",
       "2  South Indian Recipes  to begin making the ragi vermicelli recipe fir...   \n",
       "\n",
       "                                                 URL  \\\n",
       "0  https://www.archanaskitchen.com/masala-karela-...   \n",
       "1  https://www.archanaskitchen.com/spicy-tomato-r...   \n",
       "2  https://www.archanaskitchen.com/ragi-vermicell...   \n",
       "\n",
       "                                 Cleaned-Ingredients  \\\n",
       "0  salt,amchur (dry mango powder),karela (bitter ...   \n",
       "1  tomato,salt,chickpea lentils,green chilli,rice...   \n",
       "2  salt,rice vermicelli noodles (thin),asafoetida...   \n",
       "\n",
       "                                           image-url  Ingredient-count  \n",
       "0  https://www.archanaskitchen.com/images/archana...                10  \n",
       "1  https://www.archanaskitchen.com/images/archana...                12  \n",
       "2  https://www.archanaskitchen.com/images/archana...                12  "
      ]
     },
     "execution_count": 39,
     "metadata": {},
     "output_type": "execute_result"
    }
   ],
   "source": [
    "df.head(3)"
   ]
  },
  {
   "cell_type": "code",
   "execution_count": 42,
   "id": "f55ac291",
   "metadata": {},
   "outputs": [],
   "source": [
    "#need a specific format file to train the model for fasttext; this model will be unsupervised\n",
    "\n",
    "#converts dataframe to csv data\n",
    "df.to_csv(\"food_recipes.txt\", columns=[\"TranslatedInstructions\"], header = None, index = False)"
   ]
  },
  {
   "cell_type": "code",
   "execution_count": 45,
   "id": "bb4ccbf3",
   "metadata": {},
   "outputs": [
    {
     "name": "stderr",
     "output_type": "stream",
     "text": [
      "Read 1M words\n",
      "Number of words:  4578\n",
      "Number of labels: 0\n",
      "Progress: 100.0% words/sec/thread:  204534 lr:  0.000000 avg.loss:  2.173640 ETA:   0h 0m 0s\n"
     ]
    }
   ],
   "source": [
    "model = fasttext.train_unsupervised(\"food_recipes.txt\") #look into parameters of model \n",
    "#and try different parameters to optimize performance\n",
    "\n",
    "#going through all the text in the txt file, and it is using unsupervised learning approach, by default it uses skip gram instead of cbow\n",
    "#after training the model, it has word vectors"
   ]
  },
  {
   "cell_type": "code",
   "execution_count": 46,
   "id": "4252332c",
   "metadata": {},
   "outputs": [
    {
     "data": {
      "text/plain": [
       "[(0.9482361078262329, 'chutneys'),\n",
       " (0.7310252785682678, 'imli'),\n",
       " (0.7261418700218201, 'dhaniya'),\n",
       " (0.7245471477508545, 'khajur'),\n",
       " (0.7198677062988281, 'pudina'),\n",
       " (0.6673740744590759, 'kumbakonam'),\n",
       " (0.6672172546386719, 'pudi'),\n",
       " (0.6545764207839966, 'mavinakayi'),\n",
       " (0.6538786888122559, 'chammanthi'),\n",
       " (0.650215208530426, 'adrak')]"
      ]
     },
     "execution_count": 46,
     "metadata": {},
     "output_type": "execute_result"
    }
   ],
   "source": [
    "model.get_nearest_neighbors(\"chutney\")"
   ]
  },
  {
   "cell_type": "code",
   "execution_count": 47,
   "id": "3eb26ea9",
   "metadata": {},
   "outputs": [
    {
     "data": {
      "text/plain": [
       "[(0.7094194889068604, 'burfi'),\n",
       " (0.7068505883216858, 'khoya'),\n",
       " (0.6895954608917236, 'sheera'),\n",
       " (0.680199384689331, 'mawa'),\n",
       " (0.6763681769371033, 'badam'),\n",
       " (0.6634404063224792, 'mohan'),\n",
       " (0.641143798828125, 'sooji'),\n",
       " (0.6394872665405273, 'halbai'),\n",
       " (0.6374099254608154, 'rabri'),\n",
       " (0.6309300661087036, 'rawa')]"
      ]
     },
     "execution_count": 47,
     "metadata": {},
     "output_type": "execute_result"
    }
   ],
   "source": [
    "model.get_nearest_neighbors(\"halwa\")"
   ]
  },
  {
   "cell_type": "code",
   "execution_count": 49,
   "id": "81889610",
   "metadata": {},
   "outputs": [
    {
     "data": {
      "text/plain": [
       "[(0.8715541958808899, 'kheer'),\n",
       " (0.8460935354232788, 'burfi'),\n",
       " (0.8398482799530029, 'Halwa'),\n",
       " (0.7969448566436768, 'kesari'),\n",
       " (0.7937009930610657, 'payasam'),\n",
       " (0.7928832173347473, 'burfis'),\n",
       " (0.7906560897827148, 'laddoo'),\n",
       " (0.779714047908783, 'kalakand'),\n",
       " (0.7722936868667603, 'rabdi'),\n",
       " (0.7714148163795471, 'barfi')]"
      ]
     },
     "execution_count": 49,
     "metadata": {},
     "output_type": "execute_result"
    }
   ],
   "source": [
    "model_en.get_nearest_neighbors(\"halwa\")"
   ]
  },
  {
   "cell_type": "code",
   "execution_count": 50,
   "id": "585cb133",
   "metadata": {},
   "outputs": [
    {
     "data": {
      "text/plain": [
       "[(0.8388860821723938, 'agathi'),\n",
       " (0.8385953307151794, 'fansi'),\n",
       " (0.8323440551757812, 'tuvar'),\n",
       " (0.8256878852844238, 'turai'),\n",
       " (0.8225749731063843, 'kuvale'),\n",
       " (0.8184561729431152, 'karara'),\n",
       " (0.8175126314163208, 'shahjahani'),\n",
       " (0.8156529068946838, 'yeruvalli'),\n",
       " (0.8138089179992676, 'varagu'),\n",
       " (0.8091448545455933, 'besara')]"
      ]
     },
     "execution_count": 50,
     "metadata": {},
     "output_type": "execute_result"
    }
   ],
   "source": [
    "model.get_nearest_neighbors(\"saragva\")"
   ]
  },
  {
   "cell_type": "code",
   "execution_count": 52,
   "id": "dadc6d28",
   "metadata": {},
   "outputs": [
    {
     "data": {
      "text/plain": [
       "[(0.46650055050849915,\n",
       "  'MumbaiBeedDhuleWardhaRaigarhRatnagiriLaturYavatmalChandrapurNandedAkolaImphalShillongAizawlDimapurBhubaneswarCuttackPondicherryPatialaMohaliLudhianaAmritsarJalandharBathindaHoshiarpurSangrurGurdaspurMogaFirozpurFatehgarh'),\n",
       " (0.454420804977417,\n",
       "  'DEky4M0BSpUOTPnSpkuL5I0GTSnRI4jMepcaFAoxIoFnX5kmJQk1aYvr2odGBAAIfkECQoABAAsCQAAABAAEgAACGcAARAYSLCgQQEABBokkFAhAQEQHQ4EMKCiQogRCVKsOOAiRocbLQ7EmJEhR4cfEWoUOTFhRIUNE44kGZOjSIQfG9rsyDCnzp0AaMYMyfNjS6JFZWpEKlDiUqALJ0KNatKmU4NDBwYEACH5BAkKAAQALAkAAAAQABIAAAhpAAEQGEiQIICDBAUgLEgAwICHAgkImBhxoMOHAyJOpGgQY8aBGxV2hJgwZMWLFTcCUIjwoEuLBym69PgxJMuDNAUqVDkz50qZLi'),\n",
       " (0.4522473216056824,\n",
       "  'CrônicasEsdrasNeemiasEsterJóSalmosProvérbiosEclesiastesCânticosIsaíasJeremiasLamentaçõesEzequielDanielOséiasJoelAmósObadiasJonasMiquéiasNaumHabacuqueSofoniasAgeuZacariasMalaquiasNovo'),\n",
       " (0.44930699467658997,\n",
       "  'NagarBhiwaniKarnalKurukshetraMahendragarhSirsaPanipatJindJhajjarRewariSolanShimlaKangraHamirpurMandiJammuSrinagarRanchiJamshedpurMangaloreMysoreBelgaumGulbargaTumkurBijapurDavanagereDharwadShimogaUdupiHassanBidarHubliKolarBagalkotKannadaChitradurgaMandyaGadagBellaryRaichurThiruvananthapuramThrissurErnakulamMalappuramKochiKottayamKannurKozhikodeKollamPalakkadPathanamthittaCalicutTrivandrumAlappuzhaKasaragodBhopalIndoreGwaliorJabalpurUjjainSagarChhatarpurPuneNagpurAurangabadNashikKolhapurAhmed'),\n",
       " (0.44701647758483887,\n",
       "  'DEky4M0BSpUOTPnSpkuL5I0GTSnRI4jMepcaFAoxIoFnX5kmJQk1aYvr2odGBAAIfkECQoABAAsCQAAABAAEgAACGcAARAYSLCgQQEABBokkFAhAQEQHQ4EMKCiQogRCVKsOOAiRocbLQ7EmJEhR4cfEWoUOTFhRIUNE44kGZOjSIQfG9rsyDCnzp0AaMYMyfNjS6JFZWpEKlDiUqALJ0KNatKmU4NDBwYEACH5BAUKAAQALAkAAAAQABIAAAhpAAEQGEiQIICDBAUgLEgAwICHAgkImBhxoMOHAyJOpGgQY8aBGxV2hJgwZMWLFTcCUIjwoEuLBym69PgxJMuDNAUqVDkz50qZLi'),\n",
       " (0.4425433278083801, 'Judicials'),\n",
       " (0.4209320843219757,\n",
       "  'MobileCOOLPADCUBOTDEXPDOOGEEElephoneEvercossGFIVEGIONEEHAIERHDCHisenseHTCHUAWEIINEWInnJooIntexJIAKEJIAYUKarbonnKataKingZoneLandvoLAVALeagooLeEcoLENOVOLGM-HorseMICROMAXMOTOROLAN0.1NEWMANOPPOORROOukitelQMobileReal'),\n",
       " (0.38503533601760864,\n",
       "  'CITIESAgartalaAgraAhmedabadAllahabadAmritsarAurangabadBareillyBhopalBhubaneswarChandigarhCoimbatoreCuttackDehradunErodeFaridabadGoaGurgaonGuwahatiHubliImphalIndoreJaipurJammuJamshedpurJindKanpurKochiKolhapurKozhikodeLucknowLudhianaMaduraiMangaloreMeerutMysoreNagpurNashikNavi'),\n",
       " (0.38415029644966125,\n",
       "  'arrow-down2arrowcart2close4fat-arrow-leftfat-arrow-rightfeedbackfriends2happy-facelogo-gognotificationnotifications-emptyownedremove-menusad-facesearch2wishlist-menuwishlisted2own'),\n",
       " (0.3839106261730194,\n",
       "  'SahibKapurthalaJaipurUdaipurAlwarJodhpurAjmerSikarKotaGanganagarBikanerJhunjhunuHanumangarhGangtokCoimbatoreNamakkalKanyakumariSalemMaduraiVelloreKanchipuramErodeTirunelveliThanjavurVillupuramDindigulTrichyTiruvannamalaiCuddaloreThiruchirapalliThiruvallurPudukkottaiDharmapuriThiruchirapalliThoothukudiSivagangaPerambalurVirudhunagarTiruppurNagapattinamKarurRangareddiWarangalNalgondaKarim')]"
      ]
     },
     "execution_count": 52,
     "metadata": {},
     "output_type": "execute_result"
    }
   ],
   "source": [
    "model_en.get_nearest_neighbors(\"saragva\")"
   ]
  },
  {
   "cell_type": "code",
   "execution_count": 53,
   "id": "230b5e85",
   "metadata": {},
   "outputs": [
    {
     "data": {
      "text/plain": [
       "[(0.8718112707138062, 'dosai'),\n",
       " (0.8372918367385864, 'dosas'),\n",
       " (0.7766896486282349, 'uttapam'),\n",
       " (0.7491761445999146, 'uthappam'),\n",
       " (0.7096114754676819, 'appachetty'),\n",
       " (0.7085539698600769, 'kanchipuram'),\n",
       " (0.7084397673606873, 'thavala'),\n",
       " (0.7068840861320496, 'pesarattu'),\n",
       " (0.6992761492729187, 'unniyappam'),\n",
       " (0.6965214610099792, 'chembaruthi')]"
      ]
     },
     "execution_count": 53,
     "metadata": {},
     "output_type": "execute_result"
    }
   ],
   "source": [
    "model.get_nearest_neighbors(\"dosa\")"
   ]
  },
  {
   "cell_type": "code",
   "execution_count": 55,
   "id": "00f3545b",
   "metadata": {},
   "outputs": [
    {
     "data": {
      "text/plain": [
       "[(0.8448473811149597, 'dosas'),\n",
       " (0.8414778113365173, 'dosai'),\n",
       " (0.7446498274803162, 'upma'),\n",
       " (0.734865128993988, 'Dosas'),\n",
       " (0.7250936031341553, 'uttapam'),\n",
       " (0.7250546813011169, 'Dosai'),\n",
       " (0.7020090222358704, 'dosais'),\n",
       " (0.7010878324508667, 'thosai'),\n",
       " (0.6996687650680542, 'idli'),\n",
       " (0.687772810459137, 'uthappam')]"
      ]
     },
     "execution_count": 55,
     "metadata": {},
     "output_type": "execute_result"
    }
   ],
   "source": [
    "model_en.get_nearest_neighbors(\"dosa\")"
   ]
  },
  {
   "cell_type": "code",
   "execution_count": 56,
   "id": "eb5d9426",
   "metadata": {},
   "outputs": [
    {
     "data": {
      "text/plain": [
       "[(0.7683501839637756, 'sprouted'),\n",
       " (0.7255147099494934, 'sprout'),\n",
       " (0.716382622718811, 'sprouts'),\n",
       " (0.7120438814163208, 'horsegram'),\n",
       " (0.7088413238525391, 'mooga'),\n",
       " (0.7084355354309082, 'moongphali'),\n",
       " (0.694587767124176, 'moth'),\n",
       " (0.6888824701309204, 'dal'),\n",
       " (0.6702412962913513, 'horse'),\n",
       " (0.6637056469917297, 'usal')]"
      ]
     },
     "execution_count": 56,
     "metadata": {},
     "output_type": "execute_result"
    }
   ],
   "source": [
    "model.get_nearest_neighbors(\"moong\")"
   ]
  },
  {
   "cell_type": "code",
   "execution_count": null,
   "id": "824e20f9",
   "metadata": {},
   "outputs": [],
   "source": []
  }
 ],
 "metadata": {
  "kernelspec": {
   "display_name": "Python 3 (ipykernel)",
   "language": "python",
   "name": "python3"
  },
  "language_info": {
   "codemirror_mode": {
    "name": "ipython",
    "version": 3
   },
   "file_extension": ".py",
   "mimetype": "text/x-python",
   "name": "python",
   "nbconvert_exporter": "python",
   "pygments_lexer": "ipython3",
   "version": "3.11.3"
  }
 },
 "nbformat": 4,
 "nbformat_minor": 5
}
