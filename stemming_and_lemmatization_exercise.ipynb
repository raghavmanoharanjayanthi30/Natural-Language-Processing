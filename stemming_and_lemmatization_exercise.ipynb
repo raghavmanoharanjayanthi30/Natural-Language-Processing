{
 "cells": [
  {
   "cell_type": "markdown",
   "metadata": {
    "id": "-eWVL6QPtJqx"
   },
   "source": [
    "###                     **Stemming and Lemmatization: Exercises**"
   ]
  },
  {
   "cell_type": "markdown",
   "metadata": {},
   "source": [
    "- **Run this cell to import all necessary packages**"
   ]
  },
  {
   "cell_type": "code",
   "execution_count": 19,
   "metadata": {
    "id": "fn0J_mWHtM57"
   },
   "outputs": [],
   "source": [
    "#let import necessary libraries and create the object\n",
    "\n",
    "#for nltk\n",
    "import nltk\n",
    "from nltk.stem import PorterStemmer\n",
    "stemmer = PorterStemmer()\n",
    "\n",
    "#downloading all neccessary packages related to nltk\n",
    "#nltk.download('all')\n",
    "\n",
    "\n",
    "#for spacy\n",
    "import spacy\n",
    "nlp = spacy.load(\"en_core_web_sm\")"
   ]
  },
  {
   "cell_type": "markdown",
   "metadata": {
    "id": "xCjMD77juhOm"
   },
   "source": [
    "**Exercise1:** \n",
    "- Convert these list of words into base form using Stemming and Lemmatization and observe the transformations\n",
    "- Write a short note on the words that have different base words using stemming and Lemmatization"
   ]
  },
  {
   "cell_type": "code",
   "execution_count": 20,
   "metadata": {
    "colab": {
     "base_uri": "https://localhost:8080/"
    },
    "id": "5Ytgw50jtM_h",
    "outputId": "47b1cf60-7eb6-449c-d136-01289a08abf0"
   },
   "outputs": [
    {
     "name": "stdout",
     "output_type": "stream",
     "text": [
      "running  |  run\n",
      "painting  |  paint\n",
      "walking  |  walk\n",
      "dressing  |  dress\n",
      "likely  |  like\n",
      "children  |  children\n",
      "whom  |  whom\n",
      "good  |  good\n",
      "ate  |  ate\n",
      "fishing  |  fish\n"
     ]
    }
   ],
   "source": [
    "#using stemming in nltk\n",
    "lst_words = ['running', 'painting', 'walking', 'dressing', 'likely', 'children', 'whom', 'good', 'ate', 'fishing']\n",
    "\n",
    "for word in lst_words:\n",
    "    print(word, \" | \", stemmer.stem(word))"
   ]
  },
  {
   "cell_type": "code",
   "execution_count": 21,
   "metadata": {
    "colab": {
     "base_uri": "https://localhost:8080/"
    },
    "id": "uU7oPj0ftNCP",
    "outputId": "8bf39249-3afb-46a2-9e4e-9fc75be31cc4"
   },
   "outputs": [
    {
     "name": "stdout",
     "output_type": "stream",
     "text": [
      "running  |  run\n",
      "painting  |  paint\n",
      "walking  |  walk\n",
      "dressing  |  dress\n",
      "likely  |  likely\n",
      "children  |  child\n",
      "who  |  who\n",
      "good  |  good\n",
      "ate  |  eat\n",
      "fishing  |  fishing\n"
     ]
    }
   ],
   "source": [
    "#using lemmatization in spacy\n",
    "\n",
    "doc = nlp(\"running painting walking dressing likely children who good ate fishing\")\n",
    "\n",
    "for token in doc:\n",
    "    print(token, \" | \", token.lemma_)"
   ]
  },
  {
   "cell_type": "markdown",
   "metadata": {
    "id": "CLjsQGjVye5W"
   },
   "source": [
    "**Exercise2:**\n",
    "\n",
    "- convert the given text into it's base form using both stemming and lemmatization"
   ]
  },
  {
   "cell_type": "code",
   "execution_count": 27,
   "metadata": {
    "id": "0weT7a9tygnk"
   },
   "outputs": [],
   "source": [
    "text = \"\"\"Latha is very multi talented girl.She is good at many skills like dancing, running , singing , playing.She also likes eating Pav Bhagi. she has a \n",
    "habit of fishing and swimming too.Besides all this, she is a wonderful at cooking too ran runs running.\n",
    "\"\"\""
   ]
  },
  {
   "cell_type": "code",
   "execution_count": 28,
   "metadata": {
    "colab": {
     "base_uri": "https://localhost:8080/",
     "height": 53
    },
    "id": "JP29y7cjygqa",
    "outputId": "6cdc08a3-d313-495a-c0a6-34366848b27e"
   },
   "outputs": [
    {
     "name": "stdout",
     "output_type": "stream",
     "text": [
      "[Latha, is, very, multi, talented, girl, ., She, is, good, at, many, skills, like, dancing, ,, running, ,, singing, ,, playing, ., She, also, likes, eating, Pav, Bhagi, ., she, has, a, \n",
      ", habit, of, fishing, and, swimming, too, ., Besides, all, this, ,, she, is, a, wonderful, at, cooking, too, ran, runs, running, ., \n",
      "]\n"
     ]
    }
   ],
   "source": [
    "#using stemming in nltk\n",
    "\n",
    "\n",
    "#step1: Word tokenizing\n",
    "doc = nlp(text)\n",
    "\n",
    "words = [] \n",
    "for word in doc:\n",
    "    words.append(word)\n",
    "print(words)\n",
    "\n",
    "\n",
    "\n",
    "stemming = []\n",
    "#step2: getting the base form for each token using stemmer\n",
    "\n",
    "\n",
    "\n",
    "#step3: joining all words in a list into string using 'join()'\n"
   ]
  },
  {
   "cell_type": "code",
   "execution_count": 29,
   "metadata": {
    "colab": {
     "base_uri": "https://localhost:8080/"
    },
    "id": "hysIhJuxyg0B",
    "outputId": "da5f4be7-48ce-44de-a783-866571f796b9"
   },
   "outputs": [
    {
     "name": "stdout",
     "output_type": "stream",
     "text": [
      "Latha  |  Latha\n",
      "is  |  be\n",
      "very  |  very\n",
      "multi  |  multi\n",
      "talented  |  talented\n",
      "girl  |  girl\n",
      ".  |  .\n",
      "She  |  she\n",
      "is  |  be\n",
      "good  |  good\n",
      "at  |  at\n",
      "many  |  many\n",
      "skills  |  skill\n",
      "like  |  like\n",
      "dancing  |  dancing\n",
      ",  |  ,\n",
      "running  |  run\n",
      ",  |  ,\n",
      "singing  |  singing\n",
      ",  |  ,\n",
      "playing  |  play\n",
      ".  |  .\n",
      "She  |  she\n",
      "also  |  also\n",
      "likes  |  like\n",
      "eating  |  eat\n",
      "Pav  |  Pav\n",
      "Bhagi  |  Bhagi\n",
      ".  |  .\n",
      "she  |  she\n",
      "has  |  have\n",
      "a  |  a\n",
      "\n",
      "  |  \n",
      "\n",
      "habit  |  habit\n",
      "of  |  of\n",
      "fishing  |  fishing\n",
      "and  |  and\n",
      "swimming  |  swim\n",
      "too  |  too\n",
      ".  |  .\n",
      "Besides  |  besides\n",
      "all  |  all\n",
      "this  |  this\n",
      ",  |  ,\n",
      "she  |  she\n",
      "is  |  be\n",
      "a  |  a\n",
      "wonderful  |  wonderful\n",
      "at  |  at\n",
      "cooking  |  cooking\n",
      "too  |  too\n",
      "ran  |  run\n",
      "runs  |  run\n",
      "running  |  run\n",
      ".  |  .\n",
      "\n",
      "  |  \n",
      "\n"
     ]
    }
   ],
   "source": [
    "#using lemmatisation in spacy\n",
    "\n",
    "\n",
    "#step1: Creating the object for the given text\n",
    "doc = nlp(text)\n",
    "\n",
    "\n",
    "#step2: getting the base form for each token using spacy 'lemma_'\n",
    "for token in doc:\n",
    "    print(token, \" | \", token.lemma_)\n",
    "\n",
    "\n",
    "\n",
    "#step3: joining all words in a list into string using 'join()'\n"
   ]
  },
  {
   "cell_type": "markdown",
   "metadata": {},
   "source": [
    "## [**Solution**](./stemming_and_lemmatization_solutions.ipynb)"
   ]
  },
  {
   "cell_type": "code",
   "execution_count": null,
   "metadata": {},
   "outputs": [],
   "source": []
  }
 ],
 "metadata": {
  "colab": {
   "collapsed_sections": [],
   "name": "Stemming and Lemmatization.ipynb",
   "provenance": []
  },
  "kernelspec": {
   "display_name": "Python 3 (ipykernel)",
   "language": "python",
   "name": "python3"
  },
  "language_info": {
   "codemirror_mode": {
    "name": "ipython",
    "version": 3
   },
   "file_extension": ".py",
   "mimetype": "text/x-python",
   "name": "python",
   "nbconvert_exporter": "python",
   "pygments_lexer": "ipython3",
   "version": "3.11.3"
  }
 },
 "nbformat": 4,
 "nbformat_minor": 1
}
